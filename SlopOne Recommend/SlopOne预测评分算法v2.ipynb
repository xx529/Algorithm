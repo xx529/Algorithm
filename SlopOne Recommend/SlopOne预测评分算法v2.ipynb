{
 "cells": [
  {
   "cell_type": "markdown",
   "metadata": {},
   "source": [
    "# SlopOne预测评分算法"
   ]
  },
  {
   "cell_type": "code",
   "execution_count": 1,
   "metadata": {},
   "outputs": [],
   "source": [
    "from itertools import product\n",
    "import pandas as pd\n",
    "import numpy as np\n",
    "from collections import defaultdict\n",
    "from functools import partial"
   ]
  },
  {
   "cell_type": "markdown",
   "metadata": {},
   "source": [
    "## MovieLens数据读取"
   ]
  },
  {
   "cell_type": "code",
   "execution_count": 2,
   "metadata": {},
   "outputs": [
    {
     "name": "stdout",
     "output_type": "stream",
     "text": [
      "<class 'pandas.core.frame.DataFrame'>\n",
      "RangeIndex: 100004 entries, 0 to 100003\n",
      "Data columns (total 3 columns):\n",
      " #   Column   Non-Null Count   Dtype  \n",
      "---  ------   --------------   -----  \n",
      " 0   userId   100004 non-null  int64  \n",
      " 1   movieId  100004 non-null  int64  \n",
      " 2   rating   100004 non-null  float64\n",
      "dtypes: float64(1), int64(2)\n",
      "memory usage: 2.3 MB\n"
     ]
    }
   ],
   "source": [
    "data = pd.read_csv('./ratings_small.csv', usecols=['userId', 'movieId', 'rating'])\n",
    "data.info()"
   ]
  },
  {
   "cell_type": "markdown",
   "metadata": {},
   "source": [
    "# SlopOne预测评分算法"
   ]
  },
  {
   "cell_type": "code",
   "execution_count": 51,
   "metadata": {},
   "outputs": [],
   "source": [
    "class SlopOne():\n",
    "    def __init__(self):\n",
    "        pass\n",
    "        \n",
    "        \n",
    "    def fit(self, data, userid, itemid, rating):\n",
    "        self.data = data\n",
    "        self.user_col = userid\n",
    "        self.item_col = itemid\n",
    "        self.rating_col = rating\n",
    "        self.all_itemid = data[itemid].unique().tolist()\n",
    "        self.all_userid = data[userid].unique().tolist()\n",
    "        \n",
    "    def predict(self, userid, itemid):\n",
    "        if self.is_exist(userid, itemid):\n",
    "            return self.get_predict_score(userid, itemid)\n",
    "        else:\n",
    "            pass\n",
    "        \n",
    "    def get_predict_score(self, userid, itemid):\n",
    "        self.score_dict = defaultdict(partial(defaultdict,int))\n",
    "\n",
    "        for i in self.rating_item:\n",
    "            for user, groupby_user in self.data.groupby(self.user_col):\n",
    "                unique_item = groupby_user[self.item_col].unique().tolist()\n",
    "                if i in unique_item and itemid in unique_item:\n",
    "                    itemid_rating = groupby_user[groupby_user[self.item_col] == itemid][self.rating_col].values[0]\n",
    "                    i_rating = groupby_user[groupby_user[self.item_col] == i][self.rating_col].values[0]\n",
    "                    self.score_dict[(itemid, i)]['sum'] += (itemid_rating - i_rating)\n",
    "                    self.score_dict[(itemid, i)]['count'] += 1\n",
    "                else:\n",
    "                    continue\n",
    "        score = 0\n",
    "        for item in self.rating_item:\n",
    "            if (itemid, item) in self.score_dict:\n",
    "                score += self.rating_item[item] + self.score_dict[(itemid, item)]['sum'] / self.score_dict[(itemid, item)]['count']\n",
    "        score = score / len(self.rating_item)\n",
    "        return round(score, 2)\n",
    "         \n",
    "    def get_user_rating_item(self, userid):\n",
    "        self.user_data = self.data[self.data[self.user_col] == userid]\n",
    "        return {x:y for x, y in zip(self.user_data[self.item_col].values, self.user_data[self.rating_col].values)}\n",
    "        \n",
    "    def is_exist(self, userid, itemid):\n",
    "        self.rating_item = self.get_user_rating_item(userid)\n",
    "        \n",
    "        if userid not in self.all_userid:\n",
    "            print('用户不存在')\n",
    "            return False\n",
    "        \n",
    "        elif itemid not in self.all_itemid:\n",
    "            print('商品不存在')\n",
    "            return False\n",
    "        \n",
    "        elif itemid in self.rating_item :\n",
    "            print('该用户已经对此商品打过分')\n",
    "            return False\n",
    "\n",
    "        else:\n",
    "            return True"
   ]
  },
  {
   "cell_type": "code",
   "execution_count": 52,
   "metadata": {},
   "outputs": [
    {
     "data": {
      "text/plain": [
       "1.68"
      ]
     },
     "execution_count": 52,
     "metadata": {},
     "output_type": "execute_result"
    }
   ],
   "source": [
    "rec = SlopOne()\n",
    "rec.fit(data, userid='userId', itemid='movieId', rating='rating')\n",
    "rec.predict(1,35)"
   ]
  },
  {
   "cell_type": "code",
   "execution_count": null,
   "metadata": {},
   "outputs": [],
   "source": []
  }
 ],
 "metadata": {
  "hide_input": false,
  "kernelspec": {
   "display_name": "Python 3",
   "language": "python",
   "name": "python3"
  },
  "language_info": {
   "codemirror_mode": {
    "name": "ipython",
    "version": 3
   },
   "file_extension": ".py",
   "mimetype": "text/x-python",
   "name": "python",
   "nbconvert_exporter": "python",
   "pygments_lexer": "ipython3",
   "version": "3.8.1"
  },
  "toc": {
   "base_numbering": 1,
   "nav_menu": {},
   "number_sections": true,
   "sideBar": true,
   "skip_h1_title": false,
   "title_cell": "Table of Contents",
   "title_sidebar": "Contents",
   "toc_cell": false,
   "toc_position": {},
   "toc_section_display": true,
   "toc_window_display": false
  },
  "varInspector": {
   "cols": {
    "lenName": 16,
    "lenType": 16,
    "lenVar": 40
   },
   "kernels_config": {
    "python": {
     "delete_cmd_postfix": "",
     "delete_cmd_prefix": "del ",
     "library": "var_list.py",
     "varRefreshCmd": "print(var_dic_list())"
    },
    "r": {
     "delete_cmd_postfix": ") ",
     "delete_cmd_prefix": "rm(",
     "library": "var_list.r",
     "varRefreshCmd": "cat(var_dic_list()) "
    }
   },
   "types_to_exclude": [
    "module",
    "function",
    "builtin_function_or_method",
    "instance",
    "_Feature"
   ],
   "window_display": false
  }
 },
 "nbformat": 4,
 "nbformat_minor": 4
}
