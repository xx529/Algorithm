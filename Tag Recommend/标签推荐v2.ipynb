{
 "cells": [
  {
   "cell_type": "markdown",
   "metadata": {},
   "source": [
    "# 标签推荐"
   ]
  },
  {
   "cell_type": "markdown",
   "metadata": {},
   "source": [
    "## 业务场景\n",
    "1. 针对Delicious数据集，通过标签推荐方式实现推荐系统，并统计不同推荐方式的精确度和召回率\n",
    "2. 使用4种方法：SimpleTagBased、NormTagBased、TagBased-TFIDF、TagBased-TFIDF++"
   ]
  },
  {
   "cell_type": "code",
   "execution_count": 293,
   "metadata": {},
   "outputs": [],
   "source": [
    "import random\n",
    "import pandas as pd\n",
    "import numpy as np\n",
    "from collections import defaultdict\n",
    "import math"
   ]
  },
  {
   "cell_type": "markdown",
   "metadata": {},
   "source": [
    "## 数据集处理"
   ]
  },
  {
   "cell_type": "code",
   "execution_count": 2,
   "metadata": {},
   "outputs": [
    {
     "name": "stdout",
     "output_type": "stream",
     "text": [
      "重复个数 0\n"
     ]
    }
   ],
   "source": [
    "df_data = pd.read_csv('./user_taggedbookmarks-timestamps.dat', sep='\\t')\n",
    "print('重复个数', df_data.duplicated().sum())"
   ]
  },
  {
   "cell_type": "code",
   "execution_count": 3,
   "metadata": {},
   "outputs": [],
   "source": [
    "# 所有数据保存字典形\n",
    "record = {}\n",
    "for user_id, groupy_user_id in df_data.groupby('userID'):\n",
    "    record[user_id] = {}\n",
    "    for item_id, groupby_item_id in groupy_user_id.groupby('bookmarkID'):\n",
    "        record[user_id][item_id] = groupby_item_id['tagID'].values.tolist()"
   ]
  },
  {
   "cell_type": "code",
   "execution_count": 4,
   "metadata": {},
   "outputs": [],
   "source": [
    "# 拆分训练集和测试集\n",
    "def train_test_split(record, ratio):\n",
    "    set_1 = {}\n",
    "    set_2 = {}\n",
    "    \n",
    "    for user in record:\n",
    "        set_1[user] = {}\n",
    "        set_2[user] = {}\n",
    "        for item in record[user]:\n",
    "            if random.random() <= ratio:\n",
    "                set_1[user][item] = record[user][item]\n",
    "            else:\n",
    "                set_2[user][item] = record[user][item]\n",
    "    return set_1, set_2\n",
    "\n",
    "train_set, test_set = train_test_split(record, 0.75)"
   ]
  },
  {
   "cell_type": "markdown",
   "metadata": {},
   "source": [
    "## 定义计算的相关数据结构"
   ]
  },
  {
   "cell_type": "code",
   "execution_count": 5,
   "metadata": {},
   "outputs": [],
   "source": [
    "# user，item，tag索引映射\n",
    "def mapping_index(df, column):\n",
    "    value_list = df[column].unique().tolist()\n",
    "    index_to_value = {index: value for index, value in zip(range(len(value_list)), value_list)}\n",
    "    value_to_index = {x[1]: x[0] for x in list(index_to_value.items())}\n",
    "    return index_to_value, value_to_index\n",
    "\n",
    "index_to_user, user_to_index = mapping_index(df_data, 'userID')\n",
    "index_to_item, item_to_index = mapping_index(df_data, 'bookmarkID')\n",
    "index_to_tag, tag_to_index = mapping_index(df_data, 'tagID')"
   ]
  },
  {
   "cell_type": "code",
   "execution_count": 6,
   "metadata": {},
   "outputs": [],
   "source": [
    "# 利用 train_set 对 user，item，tag 生成两两关系的numpy矩阵\n",
    "user_item = np.zeros(shape=(len(df_data['userID'].unique()), len(df_data['bookmarkID'].unique())))\n",
    "user_tag = np.zeros(shape=(len(df_data['userID'].unique()), len(df_data['tagID'].unique())))\n",
    "item_tag = np.zeros(shape=(len(df_data['bookmarkID'].unique()), len(df_data['tagID'].unique())))\n",
    "\n",
    "for user_id in train_set:\n",
    "    for item_id in train_set[user_id]:\n",
    "        user_item[user_to_index[user_id], item_to_index[item_id]] += 1\n",
    "        for tag_id in train_set[user_id][item_id]:\n",
    "            user_tag[user_to_index[user_id], tag_to_index[tag_id]] += 1\n",
    "            item_tag[item_to_index[item_id], tag_to_index[tag_id]] += 1"
   ]
  },
  {
   "cell_type": "markdown",
   "metadata": {},
   "source": [
    "## 推荐计算"
   ]
  },
  {
   "cell_type": "markdown",
   "metadata": {},
   "source": [
    "$SimpleTagBased:score(u,i) = \\sum_{b}n_{u,b} \\times n_{i,b}$\n",
    "\n",
    "$NormTagBased:score(u,i) = \\sum_{b}\\frac{n_{u,b}}{n_{u}} \\times \\frac{n_{i,b}}{n_{i}}$\n",
    "\n",
    "$TagBased-TFIDF:score(u,i) = \\sum_{b}\\frac{n_{u,b}}{log(1+n_{b,u})} \\times n_{i,b}$\n",
    "\n",
    "$TagBased-TFIDF++:score(u,i) = \\sum_b\\frac{n_{u,b}}{log(1+n_{b,u})} \\times \\frac{n_{i,b}}{log(1+n_{i,u})}$"
   ]
  },
  {
   "cell_type": "markdown",
   "metadata": {},
   "source": [
    "### 矩阵运算方式"
   ]
  },
  {
   "cell_type": "code",
   "execution_count": 86,
   "metadata": {},
   "outputs": [],
   "source": [
    "class DataBase():\n",
    "    def __init__(self):\n",
    "        self.user_tag = user_tag\n",
    "        self.user_item = user_item\n",
    "        self.item_tag = item_tag\n",
    "        self.user_to_index = user_to_index\n",
    "        self.index_to_item = index_to_item\n",
    "        \n",
    "        # 计算商品i被打过标签的总次数 n_i\n",
    "        self.n_i = self.item_tag.sum(axis=1).reshape(-1,1)\n",
    "        self.n_i[self.n_i==0] = float('inf') # 防止0除以0报警告\n",
    "        \n",
    "        # 计算物品i被多少个不同用户打过标签的数目 n_i_u\n",
    "        self.n_i_u = self.user_item.sum(axis=0).reshape(-1,1)\n",
    "        self.n_i_u[self.n_i_u==0] = float('inf') # 防止0除以0报警告\n",
    "\n",
    "class TagBasedRecommend(DataBase):     \n",
    "    \n",
    "    def fit(self, user_id):\n",
    "        # 转换成用户的index\n",
    "        self.user_index = self.user_to_index[user_id]\n",
    "        \n",
    "        # 计算出用户打过的标签的index\n",
    "        self.tag_index = np.where(self.user_tag[self.user_index]>0)[0]\n",
    "        \n",
    "        # 计算用户已经打过标签的商品index\n",
    "        self.item_index = np.where(self.user_item[self.user_index]>0)[0]\n",
    "        \n",
    "        # 计算用户u对标签b使用过的次数 n_u_b\n",
    "        self.n_u_b = self.user_tag[self.user_index][np.where(self.user_tag[self.user_index]>0)[0]]\n",
    "        \n",
    "        # 计算商品i被打过标签b的次数 n_i_b\n",
    "        self.n_i_b = self.item_tag[:,self.tag_index]\n",
    "        \n",
    "        # 计算用户打过标签总次数 n_u\n",
    "        self.n_u = self.user_tag[self.user_index].sum()\n",
    "        \n",
    "        # 计算标签b被多少个不同用户使用过 n_b_u\n",
    "        self.n_b_u = (self.user_tag[:,self.tag_index] > 0).sum(axis=0)\n",
    "\n",
    "        \n",
    "    def predict(self, method='simple', top=5):\n",
    "        # SimpleTagBased 推荐\n",
    "        if method == 'simple':\n",
    "            self.recommend_score = np.dot(self.n_u_b, self.n_i_b.T)\n",
    "            \n",
    "        # NormTabBased 推荐\n",
    "        if method == 'norm':\n",
    "            self.recommend_score = np.dot(self.n_u_b / self.n_u, (self.n_i_b / self.n_i).T) \n",
    "            \n",
    "        # TagBase-TFIDF 推荐\n",
    "        if method == 'tfidf':\n",
    "            self.recommend_score = np.dot(self.n_u_b / np.log(1+self.n_b_u), self.n_i_b.T)\n",
    "        \n",
    "        # TagBase-TFIDF++ 推荐\n",
    "        if method == 'tfidf_plus':\n",
    "            self.recommend_score = np.dot(self.n_u_b / np.log(1+self.n_b_u), (self.n_i_b / np.log(1+self.n_i_u)).T)\n",
    "        \n",
    "        \n",
    "        # 晒选出未打过标签的商品index\n",
    "        self.recommend_item_score = {x: y for x, y in enumerate(self.recommend_score) if x not in self.item_index}\n",
    "        \n",
    "        # 对字典排序后提取商品index\n",
    "        self.recommend_item_index = list(dict(sorted(self.recommend_item_score.items(), key=lambda x:x[1], reverse=True)).keys())\n",
    "               \n",
    "        # 商品index转化为商品id\n",
    "        self.recommend_item_id = [self.index_to_item[x] for x in self.recommend_item_index[:top]]\n",
    "        return self.recommend_item_id"
   ]
  },
  {
   "cell_type": "markdown",
   "metadata": {},
   "source": [
    "### 字典运算方式"
   ]
  },
  {
   "cell_type": "code",
   "execution_count": 312,
   "metadata": {},
   "outputs": [],
   "source": [
    "class DataBase():\n",
    "       def __init__(self):\n",
    "            self.user_item_tag = train_set # 整体数据\n",
    "            self.user_tag = {}  # 建立user_tag字典\n",
    "            self.item_tag = {}  # 建立item_tag字典\n",
    "            self.item_user = defaultdict(list)  # 建立item_user字典 \n",
    "            self.tag_user = defaultdict(list) # 建立tag_user字典\n",
    "            self.item_tag_count = defaultdict(int)  # 商品被打过标签的总次数\n",
    "            \n",
    "            for user in self.user_item_tag:\n",
    "                self.user_tag[user] = defaultdict(int)\n",
    "                \n",
    "                for item in self.user_item_tag[user]:\n",
    "                    self.item_tag[item] = defaultdict(int)\n",
    "                    self.item_user[item].append(user)\n",
    "                    \n",
    "                    for tag in self.user_item_tag[user][item]:\n",
    "                        self.user_tag[user][tag] += 1\n",
    "                        self.item_tag[item][tag] += 1\n",
    "                        self.tag_user[tag].append(user)\n",
    "                    \n",
    "class TagBasedRecommend(DataBase):\n",
    "    \n",
    "    def fit(self, user_id):\n",
    "        \n",
    "        # 提取特定用户对标签的使用次数\n",
    "        self.current_tagged = self.user_tag[user]\n",
    "        \n",
    "        # 用户打过标签的总次数\n",
    "        self.total_tagged_count = sum([self.current_tagged[x] for x in self.current_tagged])\n",
    "        \n",
    "\n",
    "    def predict(self, method='simple', top=5):\n",
    "        self.item_score = defaultdict(int)\n",
    "        for item in self.item_tag:\n",
    "            for tag in self.item_tag[item]:\n",
    "                if tag not in self.current_tagged:\n",
    "                    continue\n",
    "                else:\n",
    "                    # SimpleTagBased 推荐\n",
    "                    if method == 'simple':\n",
    "                        self.item_score[item] += self.current_tagged[tag] * self.item_tag[item][tag]\n",
    "                    \n",
    "                    # NormTabBased 推荐\n",
    "                    if method == 'norm':\n",
    "                        self.item_score[item] += (self.current_tagged[tag] / (self.total_tagged_count+1)) * (self.item_tag[item][tag] / (self.item_tag_count[item]+1)) \n",
    "                    \n",
    "                    # TagBase-TFIDF 推荐\n",
    "                    if method == 'tfidf':\n",
    "                        self.item_score[item] += self.current_tagged[tag] / math.log(1+len(self.tag_user[tag])) * self.item_tag[item][tag]\n",
    "                        \n",
    "                    # TagBase-TFIDF++ 推荐\n",
    "                    if method == 'tfidf_plus':\n",
    "                        self.item_score[item] += self.current_tagged[tag] / math.log(1+len(self.tag_user[tag])) * self.item_tag[item][tag] / math.log(1+len(self.item_user[item]))\n",
    "\n",
    "        # 对结果字典排序\n",
    "        self.recommend_list = list(dict(sorted(self.item_score.items(), key=lambda x: x[1], reverse=True)).keys())\n",
    "        return self.recommend_list[:top+1]"
   ]
  },
  {
   "cell_type": "markdown",
   "metadata": {},
   "source": [
    "## 推荐并计算精度和召回"
   ]
  },
  {
   "cell_type": "markdown",
   "metadata": {},
   "source": [
    "$精度=\\frac{准确推荐的数量}{系统推荐的数量}$\n",
    "\n",
    "$召回=\\frac{准确推荐的数量}{用户喜欢的数量}$"
   ]
  },
  {
   "cell_type": "code",
   "execution_count": 314,
   "metadata": {
    "scrolled": true
   },
   "outputs": [
    {
     "name": "stdout",
     "output_type": "stream",
     "text": [
      "0...10...20...30...40...50...60...70...80...90...100...110...120...130...140...150...160...170...180...190...200...210...220...230...240...250...260...270...280...290...300...310...320...330...340...350...360...370...380...390...400...410...420...430...440...450...460...470...480...490...500...510...520...530...540...550...560...570...580...590...600...610...620...630...640...650...660...670...680...690...700...710...720...730...740...750...760...770...780...790...800...810...820...830...840...850...860...870...880...890...900...910...920...930...940...950...960...970...980...990...1000...1010...1020...1030...1040...1050...1060...1070...1080...1090...1100...1110...1120...1130...1140...1150...1160...1170...1180...1190...1200...1210...1220...1230...1240...1250...1260...1270...1280...1290...1300...1310...1320...1330...1340...1350...1360...1370...1380...1390...1400...1410...1420...1430...1440...1450...1460...1470...1480...1490...1500...1510...1520...1530...1540...1550...1560...1570...1580...1590...1600...1610...1620...1630...1640...1650...1660...1670...1680...1690...1700...1710...1720...1730...1740...1750...1760...1770...1780...1790...1800...1810...1820...1830...1840...1850...1860...CPU times: user 9min 25s, sys: 6.38 s, total: 9min 31s\n",
      "Wall time: 10min 4s\n"
     ]
    },
    {
     "data": {
      "text/html": [
       "<div>\n",
       "<style scoped>\n",
       "    .dataframe tbody tr th:only-of-type {\n",
       "        vertical-align: middle;\n",
       "    }\n",
       "\n",
       "    .dataframe tbody tr th {\n",
       "        vertical-align: top;\n",
       "    }\n",
       "\n",
       "    .dataframe thead th {\n",
       "        text-align: right;\n",
       "    }\n",
       "</style>\n",
       "<table border=\"1\" class=\"dataframe\">\n",
       "  <thead>\n",
       "    <tr style=\"text-align: right;\">\n",
       "      <th></th>\n",
       "      <th>simple</th>\n",
       "      <th>norm</th>\n",
       "      <th>tfidf</th>\n",
       "      <th>tfidf_plus</th>\n",
       "    </tr>\n",
       "  </thead>\n",
       "  <tbody>\n",
       "    <tr>\n",
       "      <th>precision</th>\n",
       "      <td>0.1312%</td>\n",
       "      <td>0.1285%</td>\n",
       "      <td>0.1018%</td>\n",
       "      <td>0.0991%</td>\n",
       "    </tr>\n",
       "    <tr>\n",
       "      <th>recall</th>\n",
       "      <td>0.1853%</td>\n",
       "      <td>0.1816%</td>\n",
       "      <td>0.1437%</td>\n",
       "      <td>0.14%</td>\n",
       "    </tr>\n",
       "  </tbody>\n",
       "</table>\n",
       "</div>"
      ],
      "text/plain": [
       "            simple     norm    tfidf tfidf_plus\n",
       "precision  0.1312%  0.1285%  0.1018%    0.0991%\n",
       "recall     0.1853%  0.1816%  0.1437%      0.14%"
      ]
     },
     "execution_count": 314,
     "metadata": {},
     "output_type": "execute_result"
    }
   ],
   "source": [
    "%%time\n",
    "fav_count = 0\n",
    "rec_count = 0\n",
    "valid_count = np.array([[0,0,0,0]])\n",
    "top = 20\n",
    "\n",
    "rec = TagBasedRecommend()\n",
    "for num, user in enumerate(test_set):\n",
    "    user_fav_list = test_set[user].keys()\n",
    "    fav_count += len(user_fav_list)\n",
    "    rec.fit(user)\n",
    "    for idx, method in enumerate(['simple', 'norm', 'tfidf', 'tfidf_plus']):\n",
    "        recommend_list = rec.predict(method=method, top=top)\n",
    "        valid_count[0][idx] += len(set(recommend_list) & set(user_fav_list))\n",
    "    rec_count += len(recommend_list)\n",
    "\n",
    "    if num % 10 == 0:\n",
    "        print(num, end='...')\n",
    "\n",
    "df_data = pd.DataFrame(\n",
    "    data=np.concatenate((valid_count/rec_count, valid_count/fav_count)), \n",
    "    columns=['simple', 'norm', 'tfidf', 'tfidf_plus'], \n",
    "    index=['precision', 'recall']\n",
    ")\n",
    "\n",
    "for column in df_data.columns:\n",
    "    df_data[column] = df_data[column].apply(lambda x:'{}%'.format(round(x*100,4)))\n",
    "df_data"
   ]
  },
  {
   "cell_type": "code",
   "execution_count": null,
   "metadata": {},
   "outputs": [],
   "source": []
  }
 ],
 "metadata": {
  "hide_input": false,
  "kernelspec": {
   "display_name": "Python 3",
   "language": "python",
   "name": "python3"
  },
  "language_info": {
   "codemirror_mode": {
    "name": "ipython",
    "version": 3
   },
   "file_extension": ".py",
   "mimetype": "text/x-python",
   "name": "python",
   "nbconvert_exporter": "python",
   "pygments_lexer": "ipython3",
   "version": "3.8.1"
  },
  "toc": {
   "base_numbering": 1,
   "nav_menu": {},
   "number_sections": true,
   "sideBar": true,
   "skip_h1_title": false,
   "title_cell": "Table of Contents",
   "title_sidebar": "Contents",
   "toc_cell": false,
   "toc_position": {
    "height": "calc(100% - 180px)",
    "left": "10px",
    "top": "150px",
    "width": "288px"
   },
   "toc_section_display": true,
   "toc_window_display": false
  },
  "varInspector": {
   "cols": {
    "lenName": 16,
    "lenType": 16,
    "lenVar": 40
   },
   "kernels_config": {
    "python": {
     "delete_cmd_postfix": "",
     "delete_cmd_prefix": "del ",
     "library": "var_list.py",
     "varRefreshCmd": "print(var_dic_list())"
    },
    "r": {
     "delete_cmd_postfix": ") ",
     "delete_cmd_prefix": "rm(",
     "library": "var_list.r",
     "varRefreshCmd": "cat(var_dic_list()) "
    }
   },
   "types_to_exclude": [
    "module",
    "function",
    "builtin_function_or_method",
    "instance",
    "_Feature"
   ],
   "window_display": false
  }
 },
 "nbformat": 4,
 "nbformat_minor": 4
}
