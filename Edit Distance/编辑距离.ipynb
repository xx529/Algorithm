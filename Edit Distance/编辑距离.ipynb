{
 "cells": [
  {
   "cell_type": "markdown",
   "metadata": {},
   "source": [
    "# Edit Distance"
   ]
  },
  {
   "cell_type": "markdown",
   "metadata": {},
   "source": [
    "编辑距离是针对二个字符串（例如英文字）的差异程度的量化量测，量测方式是看至少需要多少次的处理才能将一个字符串变成另一个字符串。编辑距离可以用在自然语言处理中，例如拼写检查可以根据一个拼错的字和其他正确的字的编辑距离，判断哪一个（或哪几个）是比较可能的字。DNA也可以视为用A、C、G和T组成的字符串，因此编辑距离也用在生物信息学中，判断二个DNA的类似程度。Unix 下的 diff 及 patch 即是利用编辑距离来进行文本编辑对比的例子。"
   ]
  },
  {
   "cell_type": "markdown",
   "metadata": {},
   "source": [
    "在莱文斯坦距离中，可以删除、加入、取代字符串中的任何一个字元，也是较常用的编辑距离定义，常常提到编辑距离时，指的就是莱文斯坦距离。"
   ]
  },
  {
   "cell_type": "code",
   "execution_count": 61,
   "metadata": {},
   "outputs": [],
   "source": [
    "import numpy as np\n",
    "import pandas as pd"
   ]
  },
  {
   "cell_type": "code",
   "execution_count": 92,
   "metadata": {},
   "outputs": [],
   "source": [
    "word_1 = 'abc'\n",
    "word_2 = 'abvfs'"
   ]
  },
  {
   "cell_type": "markdown",
   "metadata": {},
   "source": [
    "# 初始化矩阵"
   ]
  },
  {
   "cell_type": "code",
   "execution_count": 93,
   "metadata": {},
   "outputs": [
    {
     "data": {
      "text/html": [
       "<div>\n",
       "<style scoped>\n",
       "    .dataframe tbody tr th:only-of-type {\n",
       "        vertical-align: middle;\n",
       "    }\n",
       "\n",
       "    .dataframe tbody tr th {\n",
       "        vertical-align: top;\n",
       "    }\n",
       "\n",
       "    .dataframe thead th {\n",
       "        text-align: right;\n",
       "    }\n",
       "</style>\n",
       "<table border=\"1\" class=\"dataframe\">\n",
       "  <thead>\n",
       "    <tr style=\"text-align: right;\">\n",
       "      <th></th>\n",
       "      <th>''</th>\n",
       "      <th>a</th>\n",
       "      <th>b</th>\n",
       "      <th>c</th>\n",
       "    </tr>\n",
       "  </thead>\n",
       "  <tbody>\n",
       "    <tr>\n",
       "      <th>''</th>\n",
       "      <td>0</td>\n",
       "      <td>1</td>\n",
       "      <td>2</td>\n",
       "      <td>3</td>\n",
       "    </tr>\n",
       "    <tr>\n",
       "      <th>a</th>\n",
       "      <td>1</td>\n",
       "      <td>0</td>\n",
       "      <td>0</td>\n",
       "      <td>0</td>\n",
       "    </tr>\n",
       "    <tr>\n",
       "      <th>b</th>\n",
       "      <td>2</td>\n",
       "      <td>0</td>\n",
       "      <td>0</td>\n",
       "      <td>0</td>\n",
       "    </tr>\n",
       "    <tr>\n",
       "      <th>v</th>\n",
       "      <td>3</td>\n",
       "      <td>0</td>\n",
       "      <td>0</td>\n",
       "      <td>0</td>\n",
       "    </tr>\n",
       "    <tr>\n",
       "      <th>f</th>\n",
       "      <td>4</td>\n",
       "      <td>0</td>\n",
       "      <td>0</td>\n",
       "      <td>0</td>\n",
       "    </tr>\n",
       "    <tr>\n",
       "      <th>s</th>\n",
       "      <td>5</td>\n",
       "      <td>0</td>\n",
       "      <td>0</td>\n",
       "      <td>0</td>\n",
       "    </tr>\n",
       "  </tbody>\n",
       "</table>\n",
       "</div>"
      ],
      "text/plain": [
       "    ''  a  b  c\n",
       "''   0  1  2  3\n",
       "a    1  0  0  0\n",
       "b    2  0  0  0\n",
       "v    3  0  0  0\n",
       "f    4  0  0  0\n",
       "s    5  0  0  0"
      ]
     },
     "execution_count": 93,
     "metadata": {},
     "output_type": "execute_result"
    }
   ],
   "source": [
    "edit_matrix = np.zeros(shape=(len(word_2)+1, len(word_1)+1), dtype='int')\n",
    "edit_matrix[0,:] = [x for x in range(len(word_1)+1)]\n",
    "edit_matrix[:,0] = [x for x in range(len(word_2)+1)]\n",
    "df_matrix = pd.DataFrame(edit_matrix, \n",
    "                         index=['\\'\\''] + [x for x in word_2], \n",
    "                         columns=['\\'\\''] + [x for x in word_1], \n",
    "                         dtype='int'\n",
    "                        )\n",
    "df_matrix"
   ]
  },
  {
   "cell_type": "markdown",
   "metadata": {},
   "source": [
    "# 距离计算规则函数\n",
    "1. $str(i,j)$ 的值为以下三个值最小值\n",
    "    1. $str(i-1,j)+1$\n",
    "    2. $str(i,j-1)+1$\n",
    "    3. $str(i-1,j-1)$\n",
    "2. 对于$str(i-1,j-1)$\n",
    "    1. 如果此位置两个字符串一样，则$str(i,j)=str(i-1,j-1)$\n",
    "    2. 如果此位置两字符串不一样，则$str(i,j)=str(i-1,j-1)+1$"
   ]
  },
  {
   "cell_type": "code",
   "execution_count": 94,
   "metadata": {},
   "outputs": [],
   "source": [
    "def distance(matrix, word_1, word_2, i, j):\n",
    "    # 斜上方计算 str(i-1,j-1)\n",
    "    if word_2[i-1] == word_1[j-1]:\n",
    "        up_left = matrix[i-1, j-1]\n",
    "    else:\n",
    "        up_left = matrix[i-1, j-1] + 1\n",
    "    \n",
    "    # 正上方计算 str(i-1,j)+1\n",
    "    up = matrix[i-1, j] + 1  \n",
    "\n",
    "    # 左方的计算 str(i,j-1)+1\n",
    "    left = matrix[i, j-1] + 1  \n",
    "    \n",
    "    # 返回三个值最小的值\n",
    "    return min(up, left, up_left)"
   ]
  },
  {
   "cell_type": "markdown",
   "metadata": {},
   "source": [
    "# 计算完整矩阵"
   ]
  },
  {
   "cell_type": "code",
   "execution_count": 95,
   "metadata": {},
   "outputs": [
    {
     "data": {
      "text/html": [
       "<div>\n",
       "<style scoped>\n",
       "    .dataframe tbody tr th:only-of-type {\n",
       "        vertical-align: middle;\n",
       "    }\n",
       "\n",
       "    .dataframe tbody tr th {\n",
       "        vertical-align: top;\n",
       "    }\n",
       "\n",
       "    .dataframe thead th {\n",
       "        text-align: right;\n",
       "    }\n",
       "</style>\n",
       "<table border=\"1\" class=\"dataframe\">\n",
       "  <thead>\n",
       "    <tr style=\"text-align: right;\">\n",
       "      <th></th>\n",
       "      <th>''</th>\n",
       "      <th>a</th>\n",
       "      <th>b</th>\n",
       "      <th>c</th>\n",
       "    </tr>\n",
       "  </thead>\n",
       "  <tbody>\n",
       "    <tr>\n",
       "      <th>''</th>\n",
       "      <td>0</td>\n",
       "      <td>1</td>\n",
       "      <td>2</td>\n",
       "      <td>3</td>\n",
       "    </tr>\n",
       "    <tr>\n",
       "      <th>a</th>\n",
       "      <td>1</td>\n",
       "      <td>0</td>\n",
       "      <td>1</td>\n",
       "      <td>2</td>\n",
       "    </tr>\n",
       "    <tr>\n",
       "      <th>b</th>\n",
       "      <td>2</td>\n",
       "      <td>1</td>\n",
       "      <td>0</td>\n",
       "      <td>1</td>\n",
       "    </tr>\n",
       "    <tr>\n",
       "      <th>v</th>\n",
       "      <td>3</td>\n",
       "      <td>2</td>\n",
       "      <td>1</td>\n",
       "      <td>1</td>\n",
       "    </tr>\n",
       "    <tr>\n",
       "      <th>f</th>\n",
       "      <td>4</td>\n",
       "      <td>3</td>\n",
       "      <td>2</td>\n",
       "      <td>2</td>\n",
       "    </tr>\n",
       "    <tr>\n",
       "      <th>s</th>\n",
       "      <td>5</td>\n",
       "      <td>4</td>\n",
       "      <td>3</td>\n",
       "      <td>3</td>\n",
       "    </tr>\n",
       "  </tbody>\n",
       "</table>\n",
       "</div>"
      ],
      "text/plain": [
       "    ''  a  b  c\n",
       "''   0  1  2  3\n",
       "a    1  0  1  2\n",
       "b    2  1  0  1\n",
       "v    3  2  1  1\n",
       "f    4  3  2  2\n",
       "s    5  4  3  3"
      ]
     },
     "execution_count": 95,
     "metadata": {},
     "output_type": "execute_result"
    }
   ],
   "source": [
    "for i in range(1, len(word_2)+1):\n",
    "    for j in range(1, len(word_1)+1):\n",
    "        edit_matrix[i,j] = distance(edit_matrix, word_1, word_2, i, j)\n",
    "\n",
    "df_matrix = pd.DataFrame(edit_matrix, \n",
    "                         index=['\\'\\''] + [x for x in word_2], \n",
    "                         columns=['\\'\\''] + [x for x in word_1], \n",
    "                         dtype='int'\n",
    "                        )\n",
    "df_matrix"
   ]
  },
  {
   "cell_type": "markdown",
   "metadata": {},
   "source": [
    "# 输出结果\n",
    "1. 在右下角的值就是最终距离的结果"
   ]
  },
  {
   "cell_type": "code",
   "execution_count": 96,
   "metadata": {},
   "outputs": [
    {
     "name": "stdout",
     "output_type": "stream",
     "text": [
      "距离为： 3\n"
     ]
    }
   ],
   "source": [
    "result = edit_matrix.ravel()[-1]\n",
    "print('距离为：', result)"
   ]
  },
  {
   "cell_type": "markdown",
   "metadata": {},
   "source": [
    "# 函数封装"
   ]
  },
  {
   "cell_type": "code",
   "execution_count": 97,
   "metadata": {},
   "outputs": [],
   "source": [
    "def edit_distance(word_1, word_2):\n",
    "    # 字典保存距离矩阵\n",
    "    distance_dict = {}\n",
    "    \n",
    "    # 初始化距离\n",
    "    for i in range(len(word_2)+1):\n",
    "        distance_dict[(i,0)] = i\n",
    "    \n",
    "    for j in range(len(word_1)+1):\n",
    "        distance_dict[(0,j)] = j\n",
    "    \n",
    "    # 计算全部矩阵\n",
    "    for i in range(1, len(word_2)+1):\n",
    "        for j in range(1, len(word_1)+1):\n",
    "            \n",
    "            # 斜上方计算 str(i-1,j-1)\n",
    "            if word_2[i-1] == word_1[j-1]:\n",
    "                up_left = distance_dict[(i-1, j-1)]\n",
    "            else:\n",
    "                up_left = distance_dict[(i-1, j-1)] + 1\n",
    "\n",
    "            # 正上方计算 str(i-1,j)+1\n",
    "            up = distance_dict[(i-1, j)] + 1  \n",
    "\n",
    "            # 左方的计算 str(i,j-1)+1\n",
    "            left = distance_dict[(i, j-1)] + 1  \n",
    "            \n",
    "            # 添加到矩阵中\n",
    "            distance_dict[(i, j)] = min(up, left, up_left)\n",
    "    \n",
    "    return distance_dict[(len(word_2)), len(word_1)]\n"
   ]
  },
  {
   "cell_type": "code",
   "execution_count": 98,
   "metadata": {},
   "outputs": [
    {
     "data": {
      "text/plain": [
       "3"
      ]
     },
     "execution_count": 98,
     "metadata": {},
     "output_type": "execute_result"
    }
   ],
   "source": [
    "edit_distance('abc', 'abvfs')"
   ]
  },
  {
   "cell_type": "code",
   "execution_count": null,
   "metadata": {},
   "outputs": [],
   "source": []
  }
 ],
 "metadata": {
  "hide_input": false,
  "kernelspec": {
   "display_name": "Python 3",
   "language": "python",
   "name": "python3"
  },
  "language_info": {
   "codemirror_mode": {
    "name": "ipython",
    "version": 3
   },
   "file_extension": ".py",
   "mimetype": "text/x-python",
   "name": "python",
   "nbconvert_exporter": "python",
   "pygments_lexer": "ipython3",
   "version": "3.8.1"
  },
  "toc": {
   "base_numbering": 1,
   "nav_menu": {},
   "number_sections": true,
   "sideBar": true,
   "skip_h1_title": false,
   "title_cell": "Table of Contents",
   "title_sidebar": "Contents",
   "toc_cell": false,
   "toc_position": {},
   "toc_section_display": true,
   "toc_window_display": false
  },
  "varInspector": {
   "cols": {
    "lenName": 16,
    "lenType": 16,
    "lenVar": 40
   },
   "kernels_config": {
    "python": {
     "delete_cmd_postfix": "",
     "delete_cmd_prefix": "del ",
     "library": "var_list.py",
     "varRefreshCmd": "print(var_dic_list())"
    },
    "r": {
     "delete_cmd_postfix": ") ",
     "delete_cmd_prefix": "rm(",
     "library": "var_list.r",
     "varRefreshCmd": "cat(var_dic_list()) "
    }
   },
   "types_to_exclude": [
    "module",
    "function",
    "builtin_function_or_method",
    "instance",
    "_Feature"
   ],
   "window_display": false
  }
 },
 "nbformat": 4,
 "nbformat_minor": 4
}
