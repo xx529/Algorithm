{
  "nbformat": 4,
  "nbformat_minor": 0,
  "metadata": {
    "hide_input": false,
    "kernelspec": {
      "display_name": "Python 3",
      "language": "python",
      "name": "python3"
    },
    "language_info": {
      "codemirror_mode": {
        "name": "ipython",
        "version": 3
      },
      "file_extension": ".py",
      "mimetype": "text/x-python",
      "name": "python",
      "nbconvert_exporter": "python",
      "pygments_lexer": "ipython3",
      "version": "3.7.6"
    },
    "toc": {
      "base_numbering": 1,
      "nav_menu": {},
      "number_sections": true,
      "sideBar": true,
      "skip_h1_title": false,
      "title_cell": "Table of Contents",
      "title_sidebar": "Contents",
      "toc_cell": false,
      "toc_position": {
        "height": "calc(100% - 180px)",
        "left": "10px",
        "top": "150px",
        "width": "226px"
      },
      "toc_section_display": true,
      "toc_window_display": true
    },
    "varInspector": {
      "cols": {
        "lenName": 16,
        "lenType": 16,
        "lenVar": 40
      },
      "kernels_config": {
        "python": {
          "delete_cmd_postfix": "",
          "delete_cmd_prefix": "del ",
          "library": "var_list.py",
          "varRefreshCmd": "print(var_dic_list())"
        },
        "r": {
          "delete_cmd_postfix": ") ",
          "delete_cmd_prefix": "rm(",
          "library": "var_list.r",
          "varRefreshCmd": "cat(var_dic_list()) "
        }
      },
      "types_to_exclude": [
        "module",
        "function",
        "builtin_function_or_method",
        "instance",
        "_Feature"
      ],
      "window_display": false
    },
    "colab": {
      "name": "Gradient Caculation.ipynb",
      "provenance": [],
      "toc_visible": true
    }
  },
  "cells": [
    {
      "cell_type": "code",
      "metadata": {
        "id": "ChFnCuNqozbm"
      },
      "source": [
        "import jax.numpy as jnp\n",
        "import jax.random as jrandom\n",
        "import jax.nn as jnn\n",
        "import jax"
      ],
      "execution_count": null,
      "outputs": []
    },
    {
      "cell_type": "markdown",
      "metadata": {
        "id": "qwLPvNA_ozb4"
      },
      "source": [
        "# JAX Function"
      ]
    },
    {
      "cell_type": "code",
      "metadata": {
        "id": "uOPTY6jbozb5"
      },
      "source": [
        "def jax_linear(w, b, x):\n",
        "    return jnp.dot(x, w) + b\n",
        "\n",
        "def jax_bce_loss(y_true, y_pre):\n",
        "    return -jnp.sum(y_true * jnp.log(y_pre) + (1 - y_true) * jnp.log(1 - y_pre))\n",
        "\n",
        "def jax_ce_loss(y_true, y_pre):\n",
        "    y_true = jnn.one_hot(y, len(set(y_true)))\n",
        "    return -jnp.sum(y_true * jnp.log(y_pre))\n",
        "\n",
        "def jax_mse_loss(y_true, y_pre):\n",
        "    return jnp.sum((y_true - y_pre)**2)"
      ],
      "execution_count": null,
      "outputs": []
    },
    {
      "cell_type": "code",
      "metadata": {
        "id": "8oAW-PD51T7C"
      },
      "source": [
        "@jax.grad\n",
        "def get_jax_logistic_regression_grad(parmas, x, y_true):\n",
        "    y_pre = jnn.sigmoid(jax_linear(*parmas, x))\n",
        "    return jax_bce_loss(y_true, y_pre)\n",
        "\n",
        "@jax.grad\n",
        "def get_jax_softmax_classification_grad(parmas, x, y_true):\n",
        "    y_pre  = jnn.softmax(jax_linear(*parmas, x))\n",
        "    return jax_ce_loss(y_true, y_pre)\n",
        "\n",
        "@jax.grad\n",
        "def get_jax_linear_regression_grad(parmas, x, y_true):\n",
        "    for w, b in parmas[:-1]:\n",
        "        x = jax_linear(w, b, x)\n",
        "        x = jnn.relu(x)\n",
        "    y_pre = jax_linear(*parmas[-1], x)\n",
        "    return jax_mse_loss(y_true, y_pre)"
      ],
      "execution_count": null,
      "outputs": []
    },
    {
      "cell_type": "markdown",
      "metadata": {
        "id": "VZNG9qPLozb6"
      },
      "source": [
        "# Network Function"
      ]
    },
    {
      "cell_type": "markdown",
      "metadata": {
        "id": "gEvuakhbLru4"
      },
      "source": [
        "## Linear"
      ]
    },
    {
      "cell_type": "code",
      "metadata": {
        "id": "sYMrqihQozb7"
      },
      "source": [
        "# linear\n",
        "def linear(parmas, x):\n",
        "    w, b = parmas\n",
        "    return jnp.dot(x, w) + b\n",
        "\n",
        "def grad_linear(parmas, layer_inputs, grad_cum_dot):\n",
        "    w, _ = parmas\n",
        "    dw = jnp.dot(layer_inputs.T, grad_cum_dot)\n",
        "    db = jnp.sum(grad_cum_dot, axis=0)\n",
        "    dx = jnp.dot(grad_cum_dot, w.T)\n",
        "    return (dw, db, dx)"
      ],
      "execution_count": null,
      "outputs": []
    },
    {
      "cell_type": "markdown",
      "metadata": {
        "id": "0wGByyETLhOf"
      },
      "source": [
        "## Activation Function"
      ]
    },
    {
      "cell_type": "code",
      "metadata": {
        "id": "nVdDr2eoozb8"
      },
      "source": [
        "# sigmoid\n",
        "def sigmoid(x):\n",
        "    return 1 / (1 + jnp.exp(-x))\n",
        "\n",
        "def grad_sigmoid(x, grad_cum_dot):\n",
        "    return grad_cum_dot * (sigmoid(x) * (1 - sigmoid(x)))"
      ],
      "execution_count": null,
      "outputs": []
    },
    {
      "cell_type": "code",
      "metadata": {
        "id": "lY1ZS_RBozb8"
      },
      "source": [
        "# softmax\n",
        "def softmax(x):\n",
        "    return jnp.exp(x) / jnp.sum(jnp.exp(x), axis=1).reshape(-1,1)\n",
        "\n",
        "def grad_softmax(x, grad_cum_dot):\n",
        "    target_indexs = grad_cum_dot.argmin(axis=1).tolist()\n",
        "    return jnp.array([[s-1 if target_index == idx else s for idx, s in enumerate(i)] for i, target_index in zip(softmax(x), target_indexs)])"
      ],
      "execution_count": null,
      "outputs": []
    },
    {
      "cell_type": "code",
      "metadata": {
        "id": "K0N3IvoWq4fY"
      },
      "source": [
        "# relu\n",
        "def relu(x):\n",
        "    return jnp.maximum(0, x)\n",
        "\n",
        "def grad_relu(x, grad_cum_dot):\n",
        "    return grad_cum_dot * jnp.maximum(0, x/jnp.abs(x))"
      ],
      "execution_count": null,
      "outputs": []
    },
    {
      "cell_type": "markdown",
      "metadata": {
        "id": "zwF-_gjFLXfr"
      },
      "source": [
        "## Loss Function"
      ]
    },
    {
      "cell_type": "code",
      "metadata": {
        "id": "Z6t-pId5pNwN"
      },
      "source": [
        "# binary cross entropy gradient\n",
        "def grad_bce_loss(y_true, y_pre):\n",
        "    return - (y_true * 1 / y_pre + (1 - y_true) * 1 / (1 - y_pre) * -1)"
      ],
      "execution_count": null,
      "outputs": []
    },
    {
      "cell_type": "code",
      "metadata": {
        "id": "phZLgDaBpdLP"
      },
      "source": [
        "# cross entropy loss gradient\n",
        "def grad_ce_loss(y_true, y_pre):\n",
        "    y_true = jnn.one_hot(y_true, len(set(y_true)))\n",
        "    return 1 / (y_true * y_pre)"
      ],
      "execution_count": null,
      "outputs": []
    },
    {
      "cell_type": "code",
      "metadata": {
        "id": "5PxAo06fr6s7"
      },
      "source": [
        "# mse loss gradient\n",
        "def grad_mse_loss(y_true, y_pre):\n",
        "    return -2 * (y_true - y_pre)"
      ],
      "execution_count": null,
      "outputs": []
    },
    {
      "cell_type": "markdown",
      "metadata": {
        "id": "Je_b7NNuozb9"
      },
      "source": [
        "# Gradient Calculation"
      ]
    },
    {
      "cell_type": "markdown",
      "metadata": {
        "id": "kqwCjVl4qw-J"
      },
      "source": [
        "## Linear Regression"
      ]
    },
    {
      "cell_type": "code",
      "metadata": {
        "colab": {
          "base_uri": "https://localhost:8080/"
        },
        "id": "1y2V2BI2sfKQ",
        "outputId": "43904b66-cd4e-4e1b-e530-910ced3e2f98"
      },
      "source": [
        "KEY = jrandom.PRNGKey(529)\n",
        "INPUT_DIM = 3\n",
        "HIDDEN_DIM = 4\n",
        "OUTPUT_DIM = 1\n",
        "BATCH = 10\n",
        "\n",
        "parmas1 = (jrandom.normal(KEY, (INPUT_DIM, HIDDEN_DIM)), jrandom.normal(KEY, (HIDDEN_DIM, )))\n",
        "parmas2 = (jrandom.normal(KEY, (HIDDEN_DIM, OUTPUT_DIM)), jrandom.normal(KEY, (OUTPUT_DIM, )))\n",
        "x = jrandom.normal(KEY, (BATCH ,INPUT_DIM))\n",
        "y = jrandom.randint(KEY, (BATCH, OUTPUT_DIM), -10, 10)\n",
        "\n",
        "# forward\n",
        "linear_output = linear(parmas1, x)\n",
        "relu_output = relu(linear_output)\n",
        "outputs = linear(parmas2, relu_output)\n",
        "\n",
        "# gradient\n",
        "dLoss_dLinear = grad_mse_loss(y, outputs)\n",
        "dw2, db2, dx2 = grad_linear(parmas2, relu_output, dLoss_dLinear) \n",
        "dRelu_dLinear = grad_relu(linear_output, dx2) \n",
        "dw1, db1, _ = grad_linear(parmas1, x, dRelu_dLinear)\n",
        "\n",
        "(dw1, db1, dw2, db2)"
      ],
      "execution_count": null,
      "outputs": [
        {
          "output_type": "stream",
          "text": [
            "WARNING:absl:No GPU/TPU found, falling back to CPU. (Set TF_CPP_MIN_LOG_LEVEL=0 and rerun for more info.)\n"
          ],
          "name": "stderr"
        },
        {
          "output_type": "execute_result",
          "data": {
            "text/plain": [
              "(DeviceArray([[ 5.0259308e+01, -2.9323208e+01, -1.6577687e+02,\n",
              "                3.3996141e-01],\n",
              "              [-1.6393526e+01, -7.4917145e+00,  4.0747322e+01,\n",
              "                9.8981008e-02],\n",
              "              [-1.6545301e+01,  1.6847119e+02,  2.0225949e+02,\n",
              "               -1.4161079e+00]], dtype=float32),\n",
              " DeviceArray([-20.804895 , 114.67517  , 172.82722  ,  -1.0782892], dtype=float32),\n",
              " DeviceArray([[ 22.628633],\n",
              "              [124.500916],\n",
              "              [435.7387  ],\n",
              "              [134.8935  ]], dtype=float32),\n",
              " DeviceArray([120.27084], dtype=float32))"
            ]
          },
          "metadata": {
            "tags": []
          },
          "execution_count": 11
        }
      ]
    },
    {
      "cell_type": "code",
      "metadata": {
        "colab": {
          "base_uri": "https://localhost:8080/"
        },
        "id": "tqlZLZr9yXXU",
        "outputId": "d64b90af-04bb-4cdc-89c1-57ea00fc1a5e"
      },
      "source": [
        "get_jax_linear_regression_grad([parmas1, parmas2], x, y)"
      ],
      "execution_count": null,
      "outputs": [
        {
          "output_type": "execute_result",
          "data": {
            "text/plain": [
              "[(DeviceArray([[ 5.0259308e+01, -2.9323208e+01, -1.6577687e+02,\n",
              "                 3.3996141e-01],\n",
              "               [-1.6393526e+01, -7.4917145e+00,  4.0747322e+01,\n",
              "                 9.8981008e-02],\n",
              "               [-1.6545301e+01,  1.6847119e+02,  2.0225949e+02,\n",
              "                -1.4161079e+00]], dtype=float32),\n",
              "  DeviceArray([-20.804895 , 114.67517  , 172.82722  ,  -1.0782892], dtype=float32)),\n",
              " (DeviceArray([[ 22.628632],\n",
              "               [124.50092 ],\n",
              "               [435.7387  ],\n",
              "               [134.89351 ]], dtype=float32),\n",
              "  DeviceArray([120.27084], dtype=float32))]"
            ]
          },
          "metadata": {
            "tags": []
          },
          "execution_count": 12
        }
      ]
    },
    {
      "cell_type": "markdown",
      "metadata": {
        "id": "1aVivKp-ozb-"
      },
      "source": [
        "## Logistic Regression"
      ]
    },
    {
      "cell_type": "code",
      "metadata": {
        "id": "tyRKR0pUozb-",
        "colab": {
          "base_uri": "https://localhost:8080/"
        },
        "outputId": "b155e6e0-1f50-4d0b-985a-f24f20f32491"
      },
      "source": [
        "KEY = jrandom.PRNGKey(528)\n",
        "INPUT_DIM = 3\n",
        "OUTPUT_DIM = 1\n",
        "BATCH = 10\n",
        "\n",
        "parmas = (jrandom.normal(KEY, (INPUT_DIM, OUTPUT_DIM)), jrandom.normal(KEY, (OUTPUT_DIM, )))\n",
        "x = jrandom.normal(KEY, (BATCH ,INPUT_DIM))\n",
        "y = jrandom.randint(KEY, (BATCH, 1), 0, 2)\n",
        "\n",
        "# forward\n",
        "linear_output = linear(parmas, x)\n",
        "sigmoid_output = sigmoid(linear_output)\n",
        "\n",
        "# gradient\n",
        "dLoss_dSigomid = grad_bce_loss(y, sigmoid_output)\n",
        "dSigmoid_dLinear = grad_sigmoid(linear_output, dLoss_dSigomid) \n",
        "dw, db, _ = grad_linear(parmas, x, dSigmoid_dLinear) \n",
        "\n",
        "(dw, db)"
      ],
      "execution_count": null,
      "outputs": [
        {
          "output_type": "execute_result",
          "data": {
            "text/plain": [
              "(DeviceArray([[-0.35676906],\n",
              "              [ 0.9949498 ],\n",
              "              [ 4.8142233 ]], dtype=float32),\n",
              " DeviceArray([-0.19507158], dtype=float32))"
            ]
          },
          "metadata": {
            "tags": []
          },
          "execution_count": 13
        }
      ]
    },
    {
      "cell_type": "code",
      "metadata": {
        "colab": {
          "base_uri": "https://localhost:8080/"
        },
        "id": "t0NbC1GyozcB",
        "outputId": "f2507937-4951-4665-de40-c700c22dab50"
      },
      "source": [
        "get_jax_logistic_regression_grad(parmas, x, y)"
      ],
      "execution_count": null,
      "outputs": [
        {
          "output_type": "execute_result",
          "data": {
            "text/plain": [
              "(DeviceArray([[-0.3567691],\n",
              "              [ 0.9949497],\n",
              "              [ 4.8142233]], dtype=float32),\n",
              " DeviceArray([-0.1950717], dtype=float32))"
            ]
          },
          "metadata": {
            "tags": []
          },
          "execution_count": 14
        }
      ]
    },
    {
      "cell_type": "markdown",
      "metadata": {
        "id": "PwZndFB9o6bf"
      },
      "source": [
        "## Softmax Classification"
      ]
    },
    {
      "cell_type": "code",
      "metadata": {
        "colab": {
          "base_uri": "https://localhost:8080/"
        },
        "id": "SwwNOPWTpWHN",
        "outputId": "6863e1ba-8c7d-4ca5-9fbd-2ccb6dc36f07"
      },
      "source": [
        "KEY = jrandom.PRNGKey(129)\n",
        "INPUT_DIM = 3\n",
        "BATCH = 10\n",
        "N_CLASS = 3\n",
        "\n",
        "parmas = (jrandom.normal(KEY, (INPUT_DIM, N_CLASS)), jrandom.normal(KEY, (N_CLASS, )))\n",
        "x = jrandom.normal(KEY, (BATCH ,INPUT_DIM))\n",
        "y = jrandom.randint(KEY, (BATCH, ), 0, N_CLASS)\n",
        "\n",
        "# forward\n",
        "linear_output = linear(parmas, x)\n",
        "softmax_output = softmax(linear_output)\n",
        "\n",
        "# gradient\n",
        "dLoss_dSoftmax = grad_ce_loss(y, softmax_output)\n",
        "dSoftmax_dLinear = grad_softmax(linear_output, dLoss_dSoftmax) \n",
        "dw, db, _ = grad_linear(parmas, x, dSoftmax_dLinear) \n",
        "\n",
        "(dw, db)"
      ],
      "execution_count": null,
      "outputs": [
        {
          "output_type": "execute_result",
          "data": {
            "text/plain": [
              "(DeviceArray([[-1.3611741,  2.6924202, -1.3312461],\n",
              "              [ 1.2818991,  1.4020957, -2.6839948],\n",
              "              [-0.0522493, -0.670455 ,  0.7227044]], dtype=float32),\n",
              " DeviceArray([ 1.1519504, -4.9833374,  3.8313875], dtype=float32))"
            ]
          },
          "metadata": {
            "tags": []
          },
          "execution_count": 15
        }
      ]
    },
    {
      "cell_type": "code",
      "metadata": {
        "id": "2FoffjUvC1jb",
        "colab": {
          "base_uri": "https://localhost:8080/"
        },
        "outputId": "249514af-4b4c-458d-d22b-1d3ce3d9c241"
      },
      "source": [
        "get_jax_softmax_classification_grad(parmas, x, y)"
      ],
      "execution_count": null,
      "outputs": [
        {
          "output_type": "execute_result",
          "data": {
            "text/plain": [
              "(DeviceArray([[-1.361174 ,  2.6924202, -1.331246 ],\n",
              "              [ 1.2818991,  1.4020958, -2.6839945],\n",
              "              [-0.0522493, -0.6704552,  0.7227043]], dtype=float32),\n",
              " DeviceArray([ 1.1519502, -4.9833374,  3.831387 ], dtype=float32))"
            ]
          },
          "metadata": {
            "tags": []
          },
          "execution_count": 16
        }
      ]
    }
  ]
}