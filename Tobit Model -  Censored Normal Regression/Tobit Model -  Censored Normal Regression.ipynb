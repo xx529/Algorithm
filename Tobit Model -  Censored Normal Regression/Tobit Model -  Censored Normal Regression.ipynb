{
  "nbformat": 4,
  "nbformat_minor": 0,
  "metadata": {
    "hide_input": false,
    "kernelspec": {
      "display_name": "Python 3",
      "language": "python",
      "name": "python3"
    },
    "language_info": {
      "codemirror_mode": {
        "name": "ipython",
        "version": 3
      },
      "file_extension": ".py",
      "mimetype": "text/x-python",
      "name": "python",
      "nbconvert_exporter": "python",
      "pygments_lexer": "ipython3",
      "version": "3.7.6"
    },
    "toc": {
      "base_numbering": 1,
      "nav_menu": {},
      "number_sections": true,
      "sideBar": true,
      "skip_h1_title": false,
      "title_cell": "Table of Contents",
      "title_sidebar": "Contents",
      "toc_cell": false,
      "toc_position": {},
      "toc_section_display": true,
      "toc_window_display": false
    },
    "varInspector": {
      "cols": {
        "lenName": 16,
        "lenType": 16,
        "lenVar": 40
      },
      "kernels_config": {
        "python": {
          "delete_cmd_postfix": "",
          "delete_cmd_prefix": "del ",
          "library": "var_list.py",
          "varRefreshCmd": "print(var_dic_list())"
        },
        "r": {
          "delete_cmd_postfix": ") ",
          "delete_cmd_prefix": "rm(",
          "library": "var_list.r",
          "varRefreshCmd": "cat(var_dic_list()) "
        }
      },
      "types_to_exclude": [
        "module",
        "function",
        "builtin_function_or_method",
        "instance",
        "_Feature"
      ],
      "window_display": false
    },
    "colab": {
      "name": "Tobit Model -  Censored Normal Regression.ipynb",
      "provenance": [],
      "toc_visible": true,
      "include_colab_link": true
    },
    "accelerator": "GPU"
  },
  "cells": [
    {
      "cell_type": "markdown",
      "metadata": {
        "id": "view-in-github",
        "colab_type": "text"
      },
      "source": [
        "<a href=\"https://colab.research.google.com/github/xx529/Algorithm/blob/main/Tobit%20Model%20-%20%20Censored%20Normal%20Regression/Tobit%20Model%20-%20%20Censored%20Normal%20Regression.ipynb\" target=\"_parent\"><img src=\"https://colab.research.google.com/assets/colab-badge.svg\" alt=\"Open In Colab\"/></a>"
      ]
    },
    {
      "cell_type": "markdown",
      "metadata": {
        "id": "2kof3fOwQ1TA"
      },
      "source": [
        "# Tobit Model -  Censored Normal Regression"
      ]
    },
    {
      "cell_type": "markdown",
      "metadata": {
        "id": "vaDaWXhxQ1TC"
      },
      "source": [
        "**关于算法的故事**\n",
        "\n",
        "在任一给定年份，有相当数量家庭的医疗保险费用支出为0\n",
        "\n",
        "因此，虽然年度家庭医疗保险费用支出的总体分布散布于一个很大的正数范围内，但在数字0上却相当集中"
      ]
    },
    {
      "cell_type": "markdown",
      "metadata": {
        "id": "vq_7TwqFQ1TD"
      },
      "source": [
        "# Algorithm\n",
        "\n",
        "**定义**\n",
        "\n",
        "1. 因变量 $y$ 在正值上大致是连续分布，但也包含一部分以正概率取值为0的观测，对于 $y$ 如下定义，$y^*$ 是一个隐藏的变量，它与0共同决定了观测 $y$\n",
        "\n",
        "$$y=\\left\\{\n",
        "\\begin{aligned}\n",
        "y^* ,& y^* \\geqslant 0 \\\\\n",
        "- ,& y^* < 0 \n",
        "\\end{aligned}\n",
        "\\right.\n",
        "$$\n",
        "\n",
        "2. 隐藏变量 $y^*$ 由一个参数为 $\\beta$ 的线性方程和 $\\epsilon$，定义如下\n",
        "2\n",
        "$$y^* = x^T\\beta + \\epsilon, \\text{ 其中 } \\epsilon \\sim N(0, \\sigma^2)$$\n",
        "$$$$\n",
        "\n",
        "3. 需要优化的参数就是 $\\beta$ 和 $\\sigma$\n",
        "\n",
        "$$\\hat{\\theta}= (\\hat{\\beta}, \\hat{\\sigma}^2)$$\n",
        "\n",
        "**目标函数**\n",
        "\n",
        "1. 定义一个 indicator variable $d$，取 $L=0$ 如下:\n",
        "\n",
        "$$d=\\left\\{\n",
        "\\begin{aligned}\n",
        "1 ,& y > L\\\\\n",
        "0 ,& y = L \n",
        "\\end{aligned}\n",
        "\\right.$$\n",
        "\n",
        "2. 由定义式可知 $y^* \\sim (x^T\\beta, \\sigma^2)$\n",
        "\n",
        "$$y^* = x^T\\beta + \\epsilon \\rightarrow y^* \\sim (x^T\\beta, \\sigma^2)$$\n",
        "\n",
        "3. 当 $y^*<L$，用 CDF概率分布函数，当 $y^*>L$ 可观测时候用 PDF概率密度函数，这里取 $L=0$\n",
        "\n",
        "$$f(y)=\\left\\{\n",
        "\\begin{aligned} F^*(0)=1-\\Phi(\\frac{x^T\\beta}{\\sigma}), d=0\\\\\n",
        "\\frac{1}{\\sqrt{2\\pi\\sigma^2}}exp(-\\frac{1}{2\\sigma^2}(y-x^T\\beta)^2), d=1\n",
        "\\end{aligned}\n",
        "\\right.\n",
        "$$\n",
        "\n",
        "4. 综合上面两个分段函数就有如下形式，也就是我们通过 MLE 最大化的函数\n",
        "\n",
        "$$f(y) =[\\frac{1}{\\sqrt{2\\pi\\sigma^2}}exp(-\\frac{1}{2\\sigma^2}(y-x^T\\beta)^2)]^d[1-\\Phi(\\frac{x^T\\beta}{\\sigma})]^{1-d}$$\n",
        "\n",
        "**参数梯度**\n",
        "\n",
        "对以上公式取 $log$ 之后的参数梯度，其中 $\\phi_i=\\phi(\\frac{x_i^T\\beta}{\\sigma})$，$\\Phi_i=\\Phi(\\frac{x_i^T\\beta}{\\sigma})$\n",
        "\n",
        "$$\\frac{\\partial ln L_N}{\\partial \\beta}=\\sum^N_{i=1}\\frac{1}{\\sigma^2}(d_i(y_i-x^T\\beta)-(1-d_i)\\frac{\\sigma\\phi_i}{1-\\Phi_i})x_i$$\n",
        "\n",
        "\n",
        "$$\\frac{\\partial ln L_N}{\\partial \\sigma^2}=\\sum^N_{i=1}[d_i(-\\frac{1}{2\\sigma^2}+\\frac{(y_i-x^T\\beta)^2}{2\\sigma^4})+(1-d_i)\\frac{\\phi_ix_i^T\\beta}{1-\\Phi_i} · \\frac{1}{2\\sigma^3}]$$\n",
        "\n",
        "**优化方法**\n",
        "\n",
        "[Proximal Methods](https://github.com/xx529/Algorithm/blob/main/Proximal%20Algorithms%20-%20L1%20Regularization/Proximal%20Algorithms%20-%20L1%20Regularization.ipynb)"
      ]
    },
    {
      "cell_type": "markdown",
      "metadata": {
        "id": "iKbjrrAeQ1TE"
      },
      "source": [
        "# Implementation"
      ]
    },
    {
      "cell_type": "code",
      "metadata": {
        "id": "9RiuZETpQ1TE"
      },
      "source": [
        "import jax\n",
        "import jax.numpy as jnp\n",
        "from jax import grad, vmap\n",
        "import numpy as np"
      ],
      "execution_count": 7,
      "outputs": []
    },
    {
      "cell_type": "markdown",
      "metadata": {
        "id": "lPO65iEWQ1TF"
      },
      "source": [
        "## Data"
      ]
    },
    {
      "cell_type": "code",
      "metadata": {
        "colab": {
          "base_uri": "https://localhost:8080/"
        },
        "id": "hG_Q5KdWQ1TF",
        "outputId": "e2a299b9-cf34-47bd-97ae-5ffe849f1b83"
      },
      "source": [
        "key = jax.random.PRNGKey(199)\n",
        "batch = 10000\n",
        "input_dim = 5\n",
        "L = 0\n",
        "\n",
        "true_beta = jnp.array([2.0, 1.0, -2.0, 3.0, 4.0])\n",
        "true_sigma = 2.0\n",
        "epsilon = jax.random.normal(key, (batch, )) * (true_sigma**2)\n",
        "\n",
        "x = jax.random.normal(key, (batch, input_dim))\n",
        "y_star = jnp.dot(x, true_beta) + epsilon\n",
        "d = (y_star > L).astype(jnp.float32)\n",
        "y =  d * y_star\n",
        "\n",
        "beta = jax.random.normal(key, (input_dim, ))\n",
        "sigma = jax.random.normal(key)\n",
        "\n",
        "print('epsilon mean', epsilon.mean())\n",
        "print('epsilon std', epsilon.std())\n",
        "print('y_star std', y_star.std())\n",
        "print('x_dot_b mean', jnp.dot(x, true_beta).mean())\n",
        "print('y_star mean', y_star.mean())"
      ],
      "execution_count": 8,
      "outputs": [
        {
          "output_type": "stream",
          "text": [
            "epsilon mean 0.0054394654\n",
            "epsilon std 3.9888053\n",
            "y_star std 7.04811\n",
            "x_dot_b mean -0.012680665\n",
            "y_star mean -0.0072411993\n"
          ],
          "name": "stdout"
        }
      ]
    },
    {
      "cell_type": "code",
      "metadata": {
        "colab": {
          "base_uri": "https://localhost:8080/"
        },
        "id": "CviwImsBQ1TG",
        "outputId": "0f7d306e-e57c-43b5-f747-c6c525187419"
      },
      "source": [
        "y"
      ],
      "execution_count": 9,
      "outputs": [
        {
          "output_type": "execute_result",
          "data": {
            "text/plain": [
              "DeviceArray([-0.        ,  5.2114363 ,  9.080499  , ...,  0.13754821,\n",
              "              0.43961388, -0.        ], dtype=float32)"
            ]
          },
          "metadata": {
            "tags": []
          },
          "execution_count": 9
        }
      ]
    },
    {
      "cell_type": "code",
      "metadata": {
        "colab": {
          "base_uri": "https://localhost:8080/"
        },
        "id": "buaAoUKQQ1TG",
        "outputId": "7805593a-31c9-49c2-df79-7ddc7f38d826"
      },
      "source": [
        "y_star"
      ],
      "execution_count": 10,
      "outputs": [
        {
          "output_type": "execute_result",
          "data": {
            "text/plain": [
              "DeviceArray([-5.634598  ,  5.2114363 ,  9.080499  , ...,  0.13754821,\n",
              "              0.43961388, -5.3524485 ], dtype=float32)"
            ]
          },
          "metadata": {
            "tags": []
          },
          "execution_count": 10
        }
      ]
    },
    {
      "cell_type": "markdown",
      "metadata": {
        "id": "lnuFd-KVQ1TH"
      },
      "source": [
        "## Function"
      ]
    },
    {
      "cell_type": "code",
      "metadata": {
        "id": "0qPm6IEGQ1TH"
      },
      "source": [
        "def normal_cdf(x):\n",
        "    return jax.scipy.stats.norm.cdf(x, loc=0, scale=1)\n",
        "\n",
        "def normal_pdf(x):\n",
        "    return jax.scipy.stats.norm.pdf(x, loc=0, scale=1)\n",
        "\n",
        "def linear(x, beta):\n",
        "    return jnp.dot(x, beta)\n",
        "\n",
        "def log_mle(x, beta, sigma, y_true):\n",
        "    d = (y_star > L).astype(jnp.float32)\n",
        "    temp1 = d * jnp.log(1 / (jnp.sqrt(2 * jnp.pi) * sigma)) + (-1 / (2 * sigma**2)) * (y_true - linear(x, beta))**2\n",
        "    temp2 = (1 - d) * jnp.log(1 - normal_cdf(linear(x, beta) / sigma) + 0.001)\n",
        "    return jnp.mean(temp1 + temp2)\n",
        "\n",
        "def get_beta_grad(x, y_true, beta, sigma):\n",
        "    pass\n",
        "\n",
        "def get_sigma2_grad(x, y_true, beta, sigma):\n",
        "    pass\n",
        "\n",
        "def tobit_model_grad(x, y_true, beta, sigma):\n",
        "    x_dot_beta = linear(x, beta)\n",
        "    residual = y_true - x_dot_beta\n",
        "    sigma_square = sigma**2\n",
        "    cdf = normal_cdf(x_dot_beta)\n",
        "    pdf = normal_pdf(x_dot_beta)\n",
        "    d = (y_star > L).astype(jnp.float32)\n",
        "    \n",
        "    d_beta_temp = d*residual - (1-d) * sigma * pdf / (1 - cdf + 0.01)\n",
        "    d_beta = - (1 / sigma_square) * jnp.dot(d_beta_temp, x) / x.shape[0]\n",
        "    \n",
        "    d_sigma2_temp_1 = d * (-1 / 2 * sigma_square + (residual**2) / (2 * sigma**4))    \n",
        "    d_sigma2_temp_2 = 1 / (2 * sigma**3 ) * (1 - d) * (pdf * x_dot_beta) / (1 - cdf + 0.01)\n",
        "    d_sigma2 = - jnp.mean(d_sigma2_temp_1 + d_sigma2_temp_2)\n",
        "    \n",
        "    return d_beta, d_sigma2\n",
        "    \n",
        "\n",
        "def tobit_model_train(x, y_true, beta, sigma, lr, esp, max_iter):\n",
        "    current_mle, current_esp, current_iter = jnp.inf, jnp.inf, 1\n",
        "\n",
        "    while current_iter < max_iter and current_esp > esp:\n",
        "        d_beta, d_sigma2 = tobit_model_grad(x, y, beta, sigma)\n",
        "\n",
        "        beta = beta - lr * d_beta\n",
        "        sigma = jnp.sqrt(sigma**2 - lr * d_sigma2)\n",
        "\n",
        "        mle = log_mle(x, beta, sigma, y_true)\n",
        "        # current_esp = jnp.abs(mle - current_mle)\n",
        "        # current_mle = mle\n",
        "        current_iter += 1\n",
        "\n",
        "        if current_iter % 100 == 0:\n",
        "            print(beta, sigma, mle)\n",
        "\n",
        "    return beta, sigma"
      ],
      "execution_count": 11,
      "outputs": []
    },
    {
      "cell_type": "code",
      "metadata": {
        "colab": {
          "base_uri": "https://localhost:8080/"
        },
        "id": "KBQyKuFgfBFF",
        "outputId": "7d45dd41-c03b-44b9-ec86-511e64553191"
      },
      "source": [
        "%%time\n",
        "lr = 1e-3\n",
        "esp = 1e-9\n",
        "max_iter = 10000\n",
        "\n",
        "opt_beta, opt_sigma = tobit_model_train(x, y, beta, sigma, lr, esp, max_iter)"
      ],
      "execution_count": null,
      "outputs": [
        {
          "output_type": "stream",
          "text": [
            "[ 3.0073717   0.8210611  -1.6421138  -0.950164    0.67173666] 1.3290615 -9.184137\n",
            "[ 2.9784222   0.82507724 -1.6523643  -0.8457782   0.76444256] 1.41895 -7.9925284\n",
            "[ 2.9525461   0.828536   -1.6611848  -0.7538167   0.84594196] 1.4803617 -7.2721853\n",
            "[ 2.9286487  0.8316117 -1.6690612 -0.6699635  0.9200998] 1.5260867 -6.772764\n",
            "[ 2.9061747   0.8343986  -1.676245   -0.59200746  0.98890275] 1.5617735 -6.399241\n",
            "[ 2.8847916   0.83695513 -1.6828912  -0.5186228   1.0535463 ] 1.5904524 -6.1061106\n",
            "[ 2.8642836   0.8393223  -1.6891018  -0.44893494  1.114818  ] 1.6139499 -5.86834\n",
            "[ 2.8445034   0.84153193 -1.6949465  -0.38233507  1.1732696 ] 1.6334597 -5.670794\n",
            "[ 2.8253496   0.84360874 -1.7004765  -0.31838137  1.2293006 ] 1.6498058 -5.503695\n",
            "[ 2.806748   0.8455712 -1.7057322 -0.2567395  1.283213 ] 1.6635854 -5.3603745\n",
            "[ 2.7886417  0.8474326 -1.7107447 -0.1971442  1.3352443] 1.6752436 -5.2361026\n",
            "[ 2.7709837   0.8492029  -1.7155393  -0.13938063  1.3855867 ] 1.6851224 -5.127407\n",
            "[ 2.753737    0.85089123 -1.7201372  -0.08327261  1.4343975 ] 1.6934937 -5.0316567\n",
            "[ 2.7368703   0.85250556 -1.7245561  -0.02867321  1.4818084 ] 1.7005712 -4.9468436\n",
            "[ 2.7203577   0.85405403 -1.7288107   0.02454098  1.5279316 ] 1.7065326 -4.8713703\n",
            "[ 2.704176    0.8555442  -1.7329139   0.07647419  1.5728647 ] 1.7115239 -4.8039684\n",
            "[ 2.6883054   0.8569835  -1.7368773   0.12721427  1.6166912 ] 1.7156657 -4.743614\n",
            "[ 2.6727307   0.85837936 -1.7407117   0.17683482  1.6594839 ] 1.7190595 -4.689471\n",
            "[ 2.657439   0.8597387 -1.7444268  0.2253972  1.7013041] 1.7217942 -4.6408367\n",
            "[ 2.6424205   0.86106765 -1.7480329   0.272953    1.7422062 ] 1.7239453 -4.5971313\n",
            "[ 2.627667    0.86237144 -1.7515389   0.31954703  1.7822372 ] 1.7255781 -4.557857\n"
          ],
          "name": "stdout"
        }
      ]
    },
    {
      "cell_type": "code",
      "metadata": {
        "id": "Ca_0mkHHQ1TI"
      },
      "source": [
        "print(opt_beta)\n",
        "print(true_beta)"
      ],
      "execution_count": null,
      "outputs": []
    },
    {
      "cell_type": "code",
      "metadata": {
        "id": "VsStp8WFQ1TI"
      },
      "source": [
        "print(opt_sigma)\n",
        "print(true_sigma)"
      ],
      "execution_count": null,
      "outputs": []
    }
  ]
}