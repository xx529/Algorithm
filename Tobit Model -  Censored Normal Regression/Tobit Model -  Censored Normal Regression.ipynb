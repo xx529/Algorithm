{
  "nbformat": 4,
  "nbformat_minor": 0,
  "metadata": {
    "hide_input": false,
    "kernelspec": {
      "display_name": "Python 3",
      "language": "python",
      "name": "python3"
    },
    "language_info": {
      "codemirror_mode": {
        "name": "ipython",
        "version": 3
      },
      "file_extension": ".py",
      "mimetype": "text/x-python",
      "name": "python",
      "nbconvert_exporter": "python",
      "pygments_lexer": "ipython3",
      "version": "3.7.6"
    },
    "toc": {
      "base_numbering": 1,
      "nav_menu": {},
      "number_sections": true,
      "sideBar": true,
      "skip_h1_title": false,
      "title_cell": "Table of Contents",
      "title_sidebar": "Contents",
      "toc_cell": false,
      "toc_position": {},
      "toc_section_display": true,
      "toc_window_display": false
    },
    "varInspector": {
      "cols": {
        "lenName": 16,
        "lenType": 16,
        "lenVar": 40
      },
      "kernels_config": {
        "python": {
          "delete_cmd_postfix": "",
          "delete_cmd_prefix": "del ",
          "library": "var_list.py",
          "varRefreshCmd": "print(var_dic_list())"
        },
        "r": {
          "delete_cmd_postfix": ") ",
          "delete_cmd_prefix": "rm(",
          "library": "var_list.r",
          "varRefreshCmd": "cat(var_dic_list()) "
        }
      },
      "types_to_exclude": [
        "module",
        "function",
        "builtin_function_or_method",
        "instance",
        "_Feature"
      ],
      "window_display": false
    },
    "colab": {
      "name": "Tobit Model -  Censored Normal Regression.ipynb",
      "provenance": [],
      "toc_visible": true
    },
    "accelerator": "GPU"
  },
  "cells": [
    {
      "cell_type": "markdown",
      "metadata": {
        "id": "2kof3fOwQ1TA"
      },
      "source": [
        "# Tobit Model -  Censored Normal Regression"
      ]
    },
    {
      "cell_type": "markdown",
      "metadata": {
        "id": "vaDaWXhxQ1TC"
      },
      "source": [
        "**关于算法的故事**\n",
        "\n",
        "在任一给定年份，有相当数量家庭的医疗保险费用支出为0\n",
        "\n",
        "因此，虽然年度家庭医疗保险费用支出的总体分布散布于一个很大的正数范围内，但在数字0上却相当集中"
      ]
    },
    {
      "cell_type": "markdown",
      "metadata": {
        "id": "vq_7TwqFQ1TD"
      },
      "source": [
        "# Algorithm\n",
        "\n",
        "**定义**\n",
        "\n",
        "1. 因变量 $y$ 在正值上大致是连续分布，但也包含一部分以正概率取值为0的观测，对于 $y$ 如下定义，$y^*$ 是一个隐藏的变量，它与0共同决定了观测 $y$\n",
        "\n",
        "$$y=\\left\\{\n",
        "\\begin{aligned}\n",
        "y^* ,& y^* \\geqslant 0 \\\\\n",
        "- ,& y^* < 0 \n",
        "\\end{aligned}\n",
        "\\right.\n",
        "$$\n",
        "\n",
        "2. 隐藏变量 $y^*$ 由一个参数为 $\\beta$ 的线性方程和 $\\epsilon$，定义如下\n",
        "2\n",
        "$$y^* = x^T\\beta + \\epsilon, \\text{ 其中 } \\epsilon \\sim N(0, \\sigma^2)$$\n",
        "$$$$\n",
        "\n",
        "3. 需要优化的参数就是 $\\beta$ 和 $\\sigma$\n",
        "\n",
        "$$\\hat{\\theta}= (\\hat{\\beta}, \\hat{\\sigma}^2)$$\n",
        "\n",
        "**目标函数**\n",
        "\n",
        "1. 定义一个 indicator variable $d$，取 $L=0$ 如下:\n",
        "\n",
        "$$d=\\left\\{\n",
        "\\begin{aligned}\n",
        "1 ,& y > L\\\\\n",
        "0 ,& y = L \n",
        "\\end{aligned}\n",
        "\\right.$$\n",
        "\n",
        "2. 由定义式可知 $y^* \\sim (x^T\\beta, \\sigma^2)$\n",
        "\n",
        "$$y^* = x^T\\beta + \\epsilon \\rightarrow y^* \\sim (x^T\\beta, \\sigma^2)$$\n",
        "\n",
        "3. 当 $y^*<L$，用 CDF概率分布函数，当 $y^*>L$ 可观测时候用 PDF概率密度函数，这里取 $L=0$\n",
        "\n",
        "$$f(y)=\\left\\{\n",
        "\\begin{aligned} F^*(0)=1-\\Phi(\\frac{x^T\\beta}{\\sigma}), d=0\\\\\n",
        "\\frac{1}{\\sqrt{2\\pi\\sigma^2}}exp(-\\frac{1}{2\\sigma^2}(y-x^T\\beta)^2), d=1\n",
        "\\end{aligned}\n",
        "\\right.\n",
        "$$\n",
        "\n",
        "4. 综合上面两个分段函数就有如下形式，也就是我们通过 MLE 最大化的函数\n",
        "\n",
        "$$f(y) =[\\frac{1}{\\sqrt{2\\pi\\sigma^2}}exp(-\\frac{1}{2\\sigma^2}(y-x^T\\beta)^2)]^d[1-\\Phi(\\frac{x^T\\beta}{\\sigma})]^{1-d}$$\n",
        "\n",
        "**参数梯度**\n",
        "\n",
        "对以上公式取 $log$ 之后的参数梯度，其中 $\\phi_i=\\phi(\\frac{x_i^T\\beta}{\\sigma})$，$\\Phi_i=\\Phi(\\frac{x_i^T\\beta}{\\sigma})$\n",
        "\n",
        "$$\\frac{\\partial ln L_N}{\\partial \\beta}=\\sum^N_{i=1}\\frac{1}{\\sigma^2}(d_i(y_i-x^T\\beta)-(1-d_i)\\frac{\\sigma\\phi_i}{1-\\Phi_i})x_i$$\n",
        "\n",
        "\n",
        "$$\\frac{\\partial ln L_N}{\\partial \\sigma^2}=\\sum^N_{i=1}[d_i(-\\frac{1}{2\\sigma^2}+\\frac{(y_i-x^T\\beta)^2}{2\\sigma^4})+(1-d_i)\\frac{\\phi_ix_i^T\\beta}{1-\\Phi_i} · \\frac{1}{2\\sigma^3}]$$\n",
        "\n",
        "**优化方法**\n",
        "\n",
        "[Proximal Methods](https://github.com/xx529/Algorithm/blob/main/Proximal%20Algorithms%20-%20L1%20Regularization/Proximal%20Algorithms%20-%20L1%20Regularization.ipynb)"
      ]
    },
    {
      "cell_type": "markdown",
      "metadata": {
        "id": "iKbjrrAeQ1TE"
      },
      "source": [
        "# Implementation"
      ]
    },
    {
      "cell_type": "code",
      "metadata": {
        "id": "9RiuZETpQ1TE"
      },
      "source": [
        "import jax\n",
        "import jax.numpy as jnp\n",
        "from jax import grad, vmap, jit\n",
        "from jax.lax import cond\n",
        "import numpy as np"
      ],
      "execution_count": 307,
      "outputs": []
    },
    {
      "cell_type": "markdown",
      "metadata": {
        "id": "lPO65iEWQ1TF"
      },
      "source": [
        "## Data"
      ]
    },
    {
      "cell_type": "code",
      "metadata": {
        "colab": {
          "base_uri": "https://localhost:8080/"
        },
        "id": "hG_Q5KdWQ1TF",
        "outputId": "bb7284a0-4563-46c4-f130-e6bbf6ea7d71"
      },
      "source": [
        "key = jax.random.PRNGKey(199)\n",
        "batch = 10000\n",
        "input_dim = 5\n",
        "L = 0\n",
        "\n",
        "true_beta = jnp.array([2.0, 1.0, -2.0, 0.0, 4.0])\n",
        "true_sigma = 2.0\n",
        "epsilon = jax.random.normal(key, (batch, )) * (true_sigma**2)\n",
        "\n",
        "x = jax.random.normal(key, (batch, input_dim))\n",
        "y_star = jnp.dot(x, true_beta) + epsilon\n",
        "d = (y_star > L).astype(jnp.float32)\n",
        "y =  d * y_star\n",
        "\n",
        "beta = jax.random.normal(key, (input_dim, ))\n",
        "sigma = jax.random.normal(key)\n",
        "\n",
        "print('epsilon mean', epsilon.mean())\n",
        "print('epsilon std', epsilon.std())\n",
        "print('y_star std', y_star.std())\n",
        "print('x_dot_b mean', jnp.dot(x, true_beta).mean())\n",
        "print('y_star mean', y_star.mean())"
      ],
      "execution_count": 308,
      "outputs": [
        {
          "output_type": "stream",
          "text": [
            "epsilon mean 0.0054394654\n",
            "epsilon std 3.9888053\n",
            "y_star std 6.449384\n",
            "x_dot_b mean 0.0039303103\n",
            "y_star mean 0.009369775\n"
          ],
          "name": "stdout"
        }
      ]
    },
    {
      "cell_type": "code",
      "metadata": {
        "colab": {
          "base_uri": "https://localhost:8080/"
        },
        "id": "CviwImsBQ1TG",
        "outputId": "3da2493d-ada3-40f8-a43c-00705f2671c3"
      },
      "source": [
        "y"
      ],
      "execution_count": 309,
      "outputs": [
        {
          "output_type": "execute_result",
          "data": {
            "text/plain": [
              "DeviceArray([-0.       ,  2.393379 , 13.202604 , ...,  1.0419834,\n",
              "              4.944159 , -0.       ], dtype=float32)"
            ]
          },
          "metadata": {
            "tags": []
          },
          "execution_count": 309
        }
      ]
    },
    {
      "cell_type": "code",
      "metadata": {
        "colab": {
          "base_uri": "https://localhost:8080/"
        },
        "id": "buaAoUKQQ1TG",
        "outputId": "e8b2469d-c432-4b37-a9c1-2040135872e1"
      },
      "source": [
        "y_star"
      ],
      "execution_count": 310,
      "outputs": [
        {
          "output_type": "execute_result",
          "data": {
            "text/plain": [
              "DeviceArray([-9.858387 ,  2.393379 , 13.202604 , ...,  1.0419834,\n",
              "              4.944159 , -7.051079 ], dtype=float32)"
            ]
          },
          "metadata": {
            "tags": []
          },
          "execution_count": 310
        }
      ]
    },
    {
      "cell_type": "markdown",
      "metadata": {
        "id": "lnuFd-KVQ1TH"
      },
      "source": [
        "## Normal Version"
      ]
    },
    {
      "cell_type": "code",
      "metadata": {
        "id": "0qPm6IEGQ1TH"
      },
      "source": [
        "def normal_cdf(x):\n",
        "    return jax.scipy.stats.norm.cdf(x, loc=0, scale=1)\n",
        "\n",
        "def normal_pdf(x):\n",
        "    return jax.scipy.stats.norm.pdf(x, loc=0, scale=1)\n",
        "\n",
        "def linear(x, beta):\n",
        "    return jnp.dot(x, beta)\n",
        "\n",
        "def log_mle(x, beta, sigma, y_true):\n",
        "    d = (y_star > L).astype(jnp.float32)\n",
        "    temp1 = d * jnp.log(1 / (jnp.sqrt(2 * jnp.pi) * sigma)) + (-1 / (2 * sigma**2)) * (y_true - linear(x, beta))**2\n",
        "    temp2 = (1 - d) * jnp.log(1 - normal_cdf(linear(x, beta) / sigma) + 0.001)\n",
        "    return jnp.mean(temp1 + temp2)\n",
        "\n",
        "def tobit_model_grad(x, y_true, beta, sigma):\n",
        "    x_dot_beta = linear(x, beta)\n",
        "    residual = y_true - x_dot_beta\n",
        "    sigma_square = sigma**2\n",
        "    cdf = normal_cdf(x_dot_beta / sigma)\n",
        "    pdf = normal_pdf(x_dot_beta / sigma)\n",
        "    d = (y_true > L).astype(jnp.float32)\n",
        "    \n",
        "    d_beta_temp = d*residual - (1-d) * sigma * pdf / (1 - cdf + 0.01)\n",
        "    d_beta = - (1 / sigma_square) * jnp.dot(d_beta_temp, x) / x.shape[0]\n",
        "    \n",
        "    d_sigma2_temp_1 = d * (-1 / (2 * sigma_square) + (residual**2) / (2 * sigma**4))    \n",
        "    d_sigma2_temp_2 = 1 / (2 * sigma**3 ) * (1 - d) * (pdf * x_dot_beta) / (1 - cdf + 0.01)\n",
        "    d_sigma2 = - jnp.mean(d_sigma2_temp_1 + d_sigma2_temp_2)\n",
        "    \n",
        "    return d_beta, d_sigma2\n",
        "    \n",
        "\n",
        "def tobit_model_train(x, y_true, beta, sigma, lr, esp, max_iter):\n",
        "    current_mle, current_esp, current_iter = jnp.inf, 1, 1\n",
        "\n",
        "    while current_iter < max_iter and current_esp > esp:\n",
        "        d_beta, d_sigma2 = jit(tobit_model_grad)(x, y, beta, sigma)\n",
        "\n",
        "        beta = beta - lr * d_beta\n",
        "        sigma = jnp.sqrt(sigma**2 - lr * d_sigma2)\n",
        "\n",
        "        mle = log_mle(x, beta, sigma, y_true)\n",
        "        current_esp = jnp.abs(mle - current_mle)\n",
        "        current_mle = mle\n",
        "        current_iter += 1\n",
        "\n",
        "    return beta, sigma"
      ],
      "execution_count": 311,
      "outputs": []
    },
    {
      "cell_type": "code",
      "metadata": {
        "colab": {
          "base_uri": "https://localhost:8080/"
        },
        "id": "KBQyKuFgfBFF",
        "outputId": "3dfdc0b7-02e2-44dd-a83a-4d350e95ecdb"
      },
      "source": [
        "%%time\n",
        "lr = 1e-3\n",
        "esp = 1e-6\n",
        "max_iter = 30000\n",
        "\n",
        "opt_beta, opt_sigma = tobit_model_train(x, y, beta, sigma, lr, esp, max_iter)"
      ],
      "execution_count": 312,
      "outputs": [
        {
          "output_type": "stream",
          "text": [
            "CPU times: user 9min 24s, sys: 2min 13s, total: 11min 37s\n",
            "Wall time: 7min 58s\n"
          ],
          "name": "stdout"
        }
      ]
    },
    {
      "cell_type": "code",
      "metadata": {
        "colab": {
          "base_uri": "https://localhost:8080/"
        },
        "id": "Ca_0mkHHQ1TI",
        "outputId": "7a836c6c-04fb-452f-cb64-25d580d19bde"
      },
      "source": [
        "print(opt_beta, opt_sigma)\n",
        "print(true_beta, true_sigma)"
      ],
      "execution_count": 313,
      "outputs": [
        {
          "output_type": "stream",
          "text": [
            "[ 1.910247    0.99338317 -1.9683962  -0.12567939  3.836256  ] 2.5657961\n",
            "[ 2.  1. -2.  0.  4.] 2.0\n"
          ],
          "name": "stdout"
        }
      ]
    },
    {
      "cell_type": "markdown",
      "metadata": {
        "id": "7I78MPsSPbSM"
      },
      "source": [
        "## JAX Version"
      ]
    },
    {
      "cell_type": "code",
      "metadata": {
        "id": "B_elYRjgoEJ1"
      },
      "source": [
        "@jax.partial(vmap, in_axes=(0, 0, None, None, None))\n",
        "def select_grad(x, y_true, beta, sigma, threshold):\n",
        "    return jax.lax.cond(\n",
        "        y_true > threshold,\n",
        "        lambda _: ( # > L\n",
        "            - 1 / (sigma**2) * jnp.dot((y_true - linear(x, beta)), x),\n",
        "            - (- 1 / (2*sigma**2) + (y_true - linear(x, beta))**2 / (2 * sigma**4))\n",
        "        ), \n",
        "        lambda _: ( # < L\n",
        "             1 / (sigma**2) * jnp.dot((sigma * normal_pdf(linear(x, beta) / sigma) / (1 - normal_cdf(linear(x, beta) / sigma) + 0.01)), x),\n",
        "            - 1 / (2 * sigma**3) * normal_pdf(linear(x, beta) / sigma) * linear(x, beta) / (1 - normal_cdf(linear(x, beta) / sigma) + 0.01)\n",
        "        ), \n",
        "        operand = None\n",
        "    )"
      ],
      "execution_count": 314,
      "outputs": []
    },
    {
      "cell_type": "code",
      "metadata": {
        "colab": {
          "base_uri": "https://localhost:8080/"
        },
        "id": "vTc4wKP9LTma",
        "outputId": "c4b45b56-3fe1-4934-f556-e6988686a1f5"
      },
      "source": [
        "\n",
        "a, b = jit(select_grad)(x, y, beta, sigma, 0)\n",
        "jnp.mean(a, axis=0), jnp.mean(b)"
      ],
      "execution_count": 315,
      "outputs": [
        {
          "output_type": "execute_result",
          "data": {
            "text/plain": [
              "(DeviceArray([ 0.40317717, -0.02721015,  0.10851616, -0.33432332,\n",
              "              -1.1207983 ], dtype=float32),\n",
              " DeviceArray(-3.938704, dtype=float32))"
            ]
          },
          "metadata": {
            "tags": []
          },
          "execution_count": 315
        }
      ]
    },
    {
      "cell_type": "code",
      "metadata": {
        "id": "TPam5mmVWPvJ"
      },
      "source": [
        "lr = 1e-3\n",
        "esp = 1e-6\n",
        "max_iter = 30000\n",
        "# d_beta\n",
        "# d_sigma2\n",
        "\n",
        "# x, y_true, beta, sigma, lr, max_iter\n",
        "# val = x, y_true, beta, sigma, lr, current_iter\n",
        "\n",
        "def cond_fun(val):\n",
        "    return val[5] < 30000\n",
        "\n",
        "def body_fun(val):\n",
        "    x, y_true, beta, sigma, lr, current_iter = val\n",
        "    \n",
        "    d_beta, d_sigma2 = select_grad(x, y_true, beta, sigma, 0)\n",
        "    new_beta = beta - lr * jnp.mean(d_beta, axis=0)\n",
        "    new_sigma = jnp.sqrt(sigma**2 - lr * jnp.mean(d_sigma2))\n",
        "\n",
        "    current_iter += 1\n",
        "\n",
        "    return (x, y_true, new_beta, new_sigma, lr, current_iter)\n",
        "\n",
        "@jit\n",
        "def jax_model_train(init_val):\n",
        "    return jax.lax.while_loop(cond_fun, body_fun, init_val)"
      ],
      "execution_count": 316,
      "outputs": []
    },
    {
      "cell_type": "code",
      "metadata": {
        "colab": {
          "base_uri": "https://localhost:8080/"
        },
        "id": "iFaszWanYUIW",
        "outputId": "83a15104-8fd5-4108-bf21-dd2c37b5d2f8"
      },
      "source": [
        "%%time\n",
        "lr = 1e-3\n",
        "esp = 1e-6\n",
        "max_iter = 30000\n",
        "\n",
        "init_val = (x, y, beta, sigma, lr, 1)\n",
        "# body_fun(init_val)\n",
        "result = jax_model_train(init_val)\n",
        "\n",
        "new_beta = result[2]\n",
        "new_sigma = result[3]"
      ],
      "execution_count": 317,
      "outputs": [
        {
          "output_type": "stream",
          "text": [
            "CPU times: user 3.53 s, sys: 1.09 s, total: 4.62 s\n",
            "Wall time: 4.5 s\n"
          ],
          "name": "stdout"
        }
      ]
    },
    {
      "cell_type": "code",
      "metadata": {
        "colab": {
          "base_uri": "https://localhost:8080/"
        },
        "id": "R-4r_neVYZSx",
        "outputId": "3293f9ec-9ede-4c63-844a-06dd359d307a"
      },
      "source": [
        "new_beta, new_sigma"
      ],
      "execution_count": 318,
      "outputs": [
        {
          "output_type": "execute_result",
          "data": {
            "text/plain": [
              "(DeviceArray([ 1.910247  ,  0.9933832 , -1.9683962 , -0.12567937,\n",
              "               3.836256  ], dtype=float32),\n",
              " DeviceArray(2.5657961, dtype=float32))"
            ]
          },
          "metadata": {
            "tags": []
          },
          "execution_count": 318
        }
      ]
    },
    {
      "cell_type": "code",
      "metadata": {
        "colab": {
          "base_uri": "https://localhost:8080/"
        },
        "id": "Flp5EAzkYZ93",
        "outputId": "5316f729-1e7f-484f-fcae-93bc197a2ac3"
      },
      "source": [
        "opt_beta, opt_sigma"
      ],
      "execution_count": 319,
      "outputs": [
        {
          "output_type": "execute_result",
          "data": {
            "text/plain": [
              "(DeviceArray([ 1.910247  ,  0.99338317, -1.9683962 , -0.12567939,\n",
              "               3.836256  ], dtype=float32),\n",
              " DeviceArray(2.5657961, dtype=float32))"
            ]
          },
          "metadata": {
            "tags": []
          },
          "execution_count": 319
        }
      ]
    },
    {
      "cell_type": "code",
      "metadata": {
        "colab": {
          "base_uri": "https://localhost:8080/"
        },
        "id": "t1DJenhlYap2",
        "outputId": "1061ae7b-d775-4ae2-d088-0ce602dbe9c1"
      },
      "source": [
        "true_beta, true_sigma"
      ],
      "execution_count": 320,
      "outputs": [
        {
          "output_type": "execute_result",
          "data": {
            "text/plain": [
              "(DeviceArray([ 2.,  1., -2.,  0.,  4.], dtype=float32), 2.0)"
            ]
          },
          "metadata": {
            "tags": []
          },
          "execution_count": 320
        }
      ]
    }
  ]
}