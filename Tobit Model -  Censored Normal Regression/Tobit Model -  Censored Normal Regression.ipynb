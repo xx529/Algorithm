{
  "nbformat": 4,
  "nbformat_minor": 0,
  "metadata": {
    "hide_input": false,
    "kernelspec": {
      "display_name": "Python 3",
      "language": "python",
      "name": "python3"
    },
    "language_info": {
      "codemirror_mode": {
        "name": "ipython",
        "version": 3
      },
      "file_extension": ".py",
      "mimetype": "text/x-python",
      "name": "python",
      "nbconvert_exporter": "python",
      "pygments_lexer": "ipython3",
      "version": "3.7.6"
    },
    "toc": {
      "base_numbering": 1,
      "nav_menu": {},
      "number_sections": true,
      "sideBar": true,
      "skip_h1_title": false,
      "title_cell": "Table of Contents",
      "title_sidebar": "Contents",
      "toc_cell": false,
      "toc_position": {},
      "toc_section_display": true,
      "toc_window_display": false
    },
    "varInspector": {
      "cols": {
        "lenName": 16,
        "lenType": 16,
        "lenVar": 40
      },
      "kernels_config": {
        "python": {
          "delete_cmd_postfix": "",
          "delete_cmd_prefix": "del ",
          "library": "var_list.py",
          "varRefreshCmd": "print(var_dic_list())"
        },
        "r": {
          "delete_cmd_postfix": ") ",
          "delete_cmd_prefix": "rm(",
          "library": "var_list.r",
          "varRefreshCmd": "cat(var_dic_list()) "
        }
      },
      "types_to_exclude": [
        "module",
        "function",
        "builtin_function_or_method",
        "instance",
        "_Feature"
      ],
      "window_display": false
    },
    "colab": {
      "name": "Tobit Model -  Censored Normal Regression.ipynb",
      "provenance": [],
      "toc_visible": true,
      "include_colab_link": true
    },
    "accelerator": "GPU"
  },
  "cells": [
    {
      "cell_type": "markdown",
      "metadata": {
        "id": "view-in-github",
        "colab_type": "text"
      },
      "source": [
        "<a href=\"https://colab.research.google.com/github/xx529/Algorithm/blob/main/Tobit%20Model%20-%20%20Censored%20Normal%20Regression/Tobit%20Model%20-%20%20Censored%20Normal%20Regression.ipynb\" target=\"_parent\"><img src=\"https://colab.research.google.com/assets/colab-badge.svg\" alt=\"Open In Colab\"/></a>"
      ]
    },
    {
      "cell_type": "markdown",
      "metadata": {
        "id": "2kof3fOwQ1TA"
      },
      "source": [
        "# Tobit Model -  Censored Normal Regression"
      ]
    },
    {
      "cell_type": "markdown",
      "metadata": {
        "id": "vaDaWXhxQ1TC"
      },
      "source": [
        "**关于算法的故事**\n",
        "\n",
        "在任一给定年份，有相当数量家庭的医疗保险费用支出为0\n",
        "\n",
        "因此，虽然年度家庭医疗保险费用支出的总体分布散布于一个很大的正数范围内，但在数字0上却相当集中"
      ]
    },
    {
      "cell_type": "markdown",
      "metadata": {
        "id": "vq_7TwqFQ1TD"
      },
      "source": [
        "# Algorithm\n",
        "\n",
        "**定义**\n",
        "\n",
        "1. 因变量 $y$ 在正值上大致是连续分布，但也包含一部分以正概率取值为0的观测，对于 $y$ 如下定义，$y^*$ 是一个隐藏的变量，它与0共同决定了观测 $y$\n",
        "\n",
        "$$y=\\left\\{\n",
        "\\begin{aligned}\n",
        "y^* ,& y^* \\geqslant 0 \\\\\n",
        "- ,& y^* < 0 \n",
        "\\end{aligned}\n",
        "\\right.\n",
        "$$\n",
        "\n",
        "2. 隐藏变量 $y^*$ 由一个参数为 $\\beta$ 的线性方程和 $\\epsilon$，定义如下\n",
        "2\n",
        "$$y^* = x^T\\beta + \\epsilon, \\text{ 其中 } \\epsilon \\sim N(0, \\sigma^2)$$\n",
        "$$$$\n",
        "\n",
        "3. 需要优化的参数就是 $\\beta$ 和 $\\sigma$\n",
        "\n",
        "$$\\hat{\\theta}= (\\hat{\\beta}, \\hat{\\sigma}^2)$$\n",
        "\n",
        "**目标函数**\n",
        "\n",
        "1. 定义一个 indicator variable $d$，取 $L=0$ 如下:\n",
        "\n",
        "$$d=\\left\\{\n",
        "\\begin{aligned}\n",
        "1 ,& y > L\\\\\n",
        "0 ,& y = L \n",
        "\\end{aligned}\n",
        "\\right.$$\n",
        "\n",
        "2. 由定义式可知 $y^* \\sim (x^T\\beta, \\sigma^2)$\n",
        "\n",
        "$$y^* = x^T\\beta + \\epsilon \\rightarrow y^* \\sim (x^T\\beta, \\sigma^2)$$\n",
        "\n",
        "3. 当 $y^*<L$，用 CDF概率分布函数，当 $y^*>L$ 可观测时候用 PDF概率密度函数，这里取 $L=0$\n",
        "\n",
        "$$f(y)=\\left\\{\n",
        "\\begin{aligned} F^*(0)=1-\\Phi(\\frac{x^T\\beta}{\\sigma}), d=0\\\\\n",
        "\\frac{1}{\\sqrt{2\\pi\\sigma^2}}exp(-\\frac{1}{2\\sigma^2}(y-x^T\\beta)^2), d=1\n",
        "\\end{aligned}\n",
        "\\right.\n",
        "$$\n",
        "\n",
        "4. 综合上面两个分段函数就有如下形式，也就是我们通过 MLE 最大化的函数\n",
        "\n",
        "$$f(y) =[\\frac{1}{\\sqrt{2\\pi\\sigma^2}}exp(-\\frac{1}{2\\sigma^2}(y-x^T\\beta)^2)]^d[1-\\Phi(\\frac{x^T\\beta}{\\sigma})]^{1-d}$$\n",
        "\n",
        "**参数梯度**\n",
        "\n",
        "对以上公式取 $log$ 之后的参数梯度，其中 $\\phi_i=\\phi(\\frac{x_i^T\\beta}{\\sigma})$，$\\Phi_i=\\Phi(\\frac{x_i^T\\beta}{\\sigma})$\n",
        "\n",
        "$$\\frac{\\partial ln L_N}{\\partial \\beta}=\\sum^N_{i=1}\\frac{1}{\\sigma^2}(d_i(y_i-x^T\\beta)-(1-d_i)\\frac{\\sigma\\phi_i}{1-\\Phi_i})x_i$$\n",
        "\n",
        "\n",
        "$$\\frac{\\partial ln L_N}{\\partial \\sigma^2}=\\sum^N_{i=1}[d_i(-\\frac{1}{2\\sigma^2}+\\frac{(y_i-x^T\\beta)^2}{2\\sigma^4})+(1-d_i)\\frac{\\phi_ix_i^T\\beta}{1-\\Phi_i} · \\frac{1}{2\\sigma^3}]$$"
      ]
    },
    {
      "cell_type": "markdown",
      "metadata": {
        "id": "iKbjrrAeQ1TE"
      },
      "source": [
        "# Implementation"
      ]
    },
    {
      "cell_type": "code",
      "metadata": {
        "id": "9RiuZETpQ1TE"
      },
      "source": [
        "import jax\n",
        "import jax.numpy as jnp\n",
        "from jax import grad, vmap\n",
        "import numpy as np"
      ],
      "execution_count": 11,
      "outputs": []
    },
    {
      "cell_type": "markdown",
      "metadata": {
        "id": "lPO65iEWQ1TF"
      },
      "source": [
        "## Data"
      ]
    },
    {
      "cell_type": "code",
      "metadata": {
        "colab": {
          "base_uri": "https://localhost:8080/"
        },
        "id": "hG_Q5KdWQ1TF",
        "outputId": "09990ccc-b6f4-44d9-ad24-cbd037fa4189"
      },
      "source": [
        "key = jax.random.PRNGKey(199)\n",
        "batch = 10000\n",
        "input_dim = 5\n",
        "L = 0\n",
        "\n",
        "true_beta = jnp.array([2.0, 1.0, -2.0, 3.0, 4.0])\n",
        "true_sigma = 2.0\n",
        "epsilon = jax.random.normal(key, (batch, )) * (true_sigma**2)\n",
        "\n",
        "x = jax.random.normal(key, (batch, input_dim))\n",
        "y_star = jnp.dot(x, true_beta) + epsilon\n",
        "d = (y_star > L).astype(jnp.float32)\n",
        "y =  d * y_star\n",
        "\n",
        "beta = jax.random.normal(key, (input_dim, ))\n",
        "sigma = jax.random.normal(key)\n",
        "\n",
        "print('epsilon mean', epsilon.mean())\n",
        "print('epsilon std', epsilon.std())\n",
        "print('y_star std', y_star.std())\n",
        "print('x_dot_b mean', jnp.dot(x, true_beta).mean())\n",
        "print('y_star mean', y_star.mean())"
      ],
      "execution_count": 12,
      "outputs": [
        {
          "output_type": "stream",
          "text": [
            "epsilon mean 0.0054394654\n",
            "epsilon std 3.9888053\n",
            "y_star std 7.04811\n",
            "x_dot_b mean -0.012680665\n",
            "y_star mean -0.0072411946\n"
          ],
          "name": "stdout"
        }
      ]
    },
    {
      "cell_type": "code",
      "metadata": {
        "colab": {
          "base_uri": "https://localhost:8080/"
        },
        "id": "CviwImsBQ1TG",
        "outputId": "8476b32d-edd7-4ad1-ec39-9484496d26b0"
      },
      "source": [
        "y"
      ],
      "execution_count": 13,
      "outputs": [
        {
          "output_type": "execute_result",
          "data": {
            "text/plain": [
              "DeviceArray([-0.        ,  5.2114363 ,  9.080499  , ...,  0.13754821,\n",
              "              0.43961388, -0.        ], dtype=float32)"
            ]
          },
          "metadata": {
            "tags": []
          },
          "execution_count": 13
        }
      ]
    },
    {
      "cell_type": "code",
      "metadata": {
        "colab": {
          "base_uri": "https://localhost:8080/"
        },
        "id": "buaAoUKQQ1TG",
        "outputId": "46ff6331-4801-4509-e654-18cc50484860"
      },
      "source": [
        "y_star"
      ],
      "execution_count": 14,
      "outputs": [
        {
          "output_type": "execute_result",
          "data": {
            "text/plain": [
              "DeviceArray([-5.634598  ,  5.2114363 ,  9.080499  , ...,  0.13754821,\n",
              "              0.43961388, -5.3524485 ], dtype=float32)"
            ]
          },
          "metadata": {
            "tags": []
          },
          "execution_count": 14
        }
      ]
    },
    {
      "cell_type": "markdown",
      "metadata": {
        "id": "lnuFd-KVQ1TH"
      },
      "source": [
        "## Function"
      ]
    },
    {
      "cell_type": "code",
      "metadata": {
        "id": "0qPm6IEGQ1TH"
      },
      "source": [
        "def normal_cdf(x):\n",
        "    return jax.scipy.stats.norm.cdf(x, loc=0, scale=1)\n",
        "\n",
        "def normal_pdf(x):\n",
        "    return jax.scipy.stats.norm.pdf(x, loc=0, scale=1)\n",
        "\n",
        "def linear(x, beta):\n",
        "    return jnp.dot(x, beta)\n",
        "\n",
        "def log_mle(x, beta, sigma, y_true):\n",
        "    d = (y_star > L).astype(jnp.float32)\n",
        "    temp1 = d * jnp.log(1 / (jnp.sqrt(2 * jnp.pi) * sigma)) + (-1 / (2 * sigma**2)) * (y_true - linear(x, beta))**2\n",
        "    temp2 = (1 - d) * jnp.log(1 - normal_cdf(linear(x, beta) / sigma) + 0.001)\n",
        "    return jnp.mean(temp1 + temp2)\n",
        "\n",
        "def get_beta_grad(x, y_true, beta, sigma):\n",
        "    pass\n",
        "\n",
        "def get_sigma2_grad(x, y_true, beta, sigma):\n",
        "    pass\n",
        "\n",
        "def tobit_model_grad(x, y_true, beta, sigma):\n",
        "    x_dot_beta = linear(x, beta)\n",
        "    residual = y_true - x_dot_beta\n",
        "    sigma_square = sigma**2\n",
        "    cdf = normal_cdf(x_dot_beta)\n",
        "    pdf = normal_pdf(x_dot_beta)\n",
        "    d = (y_star > L).astype(jnp.float32)\n",
        "    \n",
        "    d_beta_temp = d*residual - (1-d) * sigma * pdf / (1 - cdf + 0.01)\n",
        "    d_beta = - (1 / sigma_square) * jnp.dot(d_beta_temp, x) / x.shape[0]\n",
        "    \n",
        "    d_sigma2_temp_1 = d * (-1 / 2 * sigma_square + (residual**2) / (2 * sigma**4))    \n",
        "    d_sigma2_temp_2 = 1 / (2 * sigma**3 ) * (1 - d) * (pdf * x_dot_beta) / (1 - cdf + 0.01)\n",
        "    d_sigma2 = - jnp.mean(d_sigma2_temp_1 + d_sigma2_temp_2)\n",
        "    \n",
        "    return d_beta, d_sigma2\n",
        "    \n",
        "\n",
        "def tobit_model_train(x, y_true, beta, sigma, lr, esp, max_iter):\n",
        "    current_mle = jnp.inf\n",
        "    current_esp = jnp.inf\n",
        "    current_iter = 1\n",
        "\n",
        "    while current_iter < max_iter and current_esp > esp:\n",
        "        d_beta, d_sigma2 = tobit_model_grad(x, y, beta, sigma)\n",
        "\n",
        "        beta = beta - lr * d_beta\n",
        "        sigma = jnp.sqrt(sigma**2 - lr * d_sigma2)\n",
        "\n",
        "        mle = log_mle(x, beta, sigma, y_true)\n",
        "        # current_esp = jnp.abs(mle - current_mle)\n",
        "        # current_mle = mle\n",
        "        current_iter += 1\n",
        "\n",
        "        if current_iter % 100 == 0:\n",
        "            print(beta, sigma, mle)\n",
        "\n",
        "    return beta, sigma"
      ],
      "execution_count": 15,
      "outputs": []
    },
    {
      "cell_type": "code",
      "metadata": {
        "id": "KBQyKuFgfBFF",
        "outputId": "830ae5b4-5c50-47b1-c62b-3b61b107b50e",
        "colab": {
          "base_uri": "https://localhost:8080/"
        }
      },
      "source": [
        "lr = 1e-3\n",
        "esp = 1e-9\n",
        "max_iter = 10000\n",
        "\n",
        "opt_beta, opt_sigma = tobit_model_train(x, y, beta, sigma, lr, esp, max_iter)"
      ],
      "execution_count": 16,
      "outputs": [
        {
          "output_type": "stream",
          "text": [
            "[ 3.0073717   0.8210611  -1.6421138  -0.950164    0.67173666] 1.3290615 -9.184137\n",
            "[ 2.9784222   0.82507724 -1.6523643  -0.8457782   0.76444256] 1.41895 -7.9925284\n",
            "[ 2.9525461   0.828536   -1.6611848  -0.7538167   0.84594196] 1.4803617 -7.2721853\n",
            "[ 2.9286487  0.8316117 -1.6690612 -0.6699635  0.9200998] 1.5260867 -6.772764\n",
            "[ 2.9061747   0.8343986  -1.676245   -0.59200746  0.98890275] 1.5617735 -6.3992405\n",
            "[ 2.8847916   0.83695513 -1.6828912  -0.5186228   1.0535463 ] 1.5904524 -6.106111\n",
            "[ 2.8642836   0.8393223  -1.6891018  -0.44893494  1.114818  ] 1.6139499 -5.8683395\n",
            "[ 2.8445034   0.84153193 -1.6949465  -0.38233507  1.1732696 ] 1.6334597 -5.6707945\n",
            "[ 2.8253496   0.84360874 -1.7004765  -0.31838137  1.2293006 ] 1.6498058 -5.503695\n",
            "[ 2.806748   0.8455712 -1.7057322 -0.2567395  1.283213 ] 1.6635854 -5.3603745\n",
            "[ 2.7886417  0.8474326 -1.7107447 -0.1971442  1.3352443] 1.6752436 -5.2361035\n",
            "[ 2.7709837   0.8492029  -1.7155393  -0.13938063  1.3855867 ] 1.6851224 -5.1274066\n",
            "[ 2.753737    0.85089123 -1.7201372  -0.08327261  1.4343975 ] 1.6934937 -5.0316563\n",
            "[ 2.7368703   0.85250556 -1.7245561  -0.02867321  1.4818084 ] 1.7005712 -4.9468436\n",
            "[ 2.7203577   0.85405403 -1.7288107   0.02454098  1.5279316 ] 1.7065326 -4.8713703\n",
            "[ 2.704176   0.8555442 -1.7329139  0.0764742  1.5728647] 1.7115239 -4.8039684\n",
            "[ 2.6883054   0.8569835  -1.7368773   0.12721427  1.6166912 ] 1.7156657 -4.743614\n",
            "[ 2.6727307   0.85837936 -1.7407117   0.17683482  1.6594839 ] 1.7190595 -4.6894712\n",
            "[ 2.657439   0.8597387 -1.7444268  0.2253972  1.7013041] 1.7217942 -4.6408367\n",
            "[ 2.6424205   0.86106765 -1.7480329   0.272953    1.7422062 ] 1.7239453 -4.5971313\n",
            "[ 2.627667    0.86237144 -1.7515389   0.31954703  1.7822372 ] 1.7255781 -4.5578575\n",
            "[ 2.613171    0.8636546  -1.7549531   0.36521882  1.8214387 ] 1.7267476 -4.522603\n",
            "[ 2.5989275   0.8649204  -1.7582835   0.41000378  1.8598491 ] 1.7275056 -4.4909973\n",
            "[ 2.5849316   0.8661717  -1.7615372   0.45393398  1.8975023 ] 1.7278943 -4.462733\n",
            "[ 2.5711787   0.8674103  -1.764721    0.49703842  1.9344285 ] 1.7279536 -4.43753\n",
            "[ 2.557665    0.86863744 -1.7678415   0.5393436   1.9706558 ] 1.7277193 -4.415141\n",
            "[ 2.5443897   0.8698542  -1.7709043   0.58087325  2.0062096 ] 1.7272204 -4.395362\n",
            "[ 2.5313487   0.87106097 -1.7739152   0.62165016  2.041113  ] 1.7264868 -4.3779917\n",
            "[ 2.5185387   0.87225765 -1.7768784   0.6616954   2.0753872 ] 1.7255423 -4.3628635\n",
            "[ 2.5059583   0.87344587 -1.7797992   0.7010285   2.1090527 ] 1.7244095 -4.3498235\n",
            "[ 2.4936032   0.87462485 -1.7826811   0.7396675   2.142128  ] 1.723109 -4.338729\n",
            "[ 2.4814723  0.8757964 -1.7855282  0.7776286  2.1746302] 1.721661 -4.329449\n",
            "[ 2.4695628   0.87696135 -1.7883426   0.8149264   2.206574  ] 1.7200806 -4.3218737\n",
            "[ 2.4578738   0.8781208  -1.7911284   0.85157436  2.237974  ] 1.7183833 -4.3158965\n",
            "[ 2.4464042   0.87927663 -1.7938863   0.8875851   2.2688425 ] 1.7165843 -4.3114157\n",
            "[ 2.4351537  0.880427  -1.7966198  0.9229704  2.299192 ] 1.7146959 -4.3083434\n",
            "[ 2.4241204  0.8815774 -1.799331   0.9577419  2.3290322] 1.7127296 -4.3065963\n",
            "[ 2.4133015  0.882723  -1.8020201  0.9919103  2.3583746] 1.7106953 -4.3060975\n",
            "[ 2.4026957  0.8838674 -1.8046906  1.0254879  2.3872278] 1.7086035 -4.3067718\n",
            "[ 2.3923006  0.8850118 -1.8073431  1.0584866  2.415602 ] 1.7064638 -4.3085475\n",
            "[ 2.3821137  0.8861562 -1.8099794  1.0909166  2.4435055] 1.704286 -4.311354\n",
            "[ 2.3721306  0.8873006 -1.8125985  1.1227891  2.4709477] 1.7020768 -4.3151317\n",
            "[ 2.3623497  0.8884448 -1.8152028  1.1541145  2.497936 ] 1.6998423 -4.3198266\n",
            "[ 2.3527663   0.88958323 -1.8177927   1.1849031   2.5244792 ] 1.6975888 -4.3253818\n",
            "[ 2.3433769  0.8907217 -1.8203655  1.2151653  2.550586 ] 1.6953198 -4.3317547\n",
            "[ 2.3341784  0.8918601 -1.8229233  1.2449107  2.576263 ] 1.6930485 -4.3388658\n",
            "[ 2.3251681  0.8929986 -1.8254663  1.2741481  2.6015182] 1.6907716 -4.346699\n",
            "[ 2.3163419  0.894137  -1.8279916  1.3028866  2.6263585] 1.6885016 -4.3551807\n",
            "[ 2.3076973  0.8952719 -1.8305008  1.3311343  2.6507912] 1.686237 -4.364287\n",
            "[ 2.2992306  0.8964044 -1.8329931  1.3588992  2.6748238] 1.6839812 -4.37398\n",
            "[ 2.2909398  0.8975369 -1.8354675  1.38619    2.6984615] 1.6817396 -4.3842125\n",
            "[ 2.2828214   0.89866936 -1.8379244   1.4130135   2.7217119 ] 1.6795144 -4.3949533\n",
            "[ 2.2748718   0.89979815 -1.8403625   1.4393773   2.744581  ] 1.6773089 -4.4061637\n",
            "[ 2.2670887  0.9009247 -1.8427821  1.4652885  2.7670746] 1.6751271 -4.417804\n",
            "[ 2.2594683  0.9020512 -1.8451833  1.4907546  2.7891982] 1.6729684 -4.429854\n",
            "[ 2.252008   0.9031733 -1.8475635  1.5157822  2.8109584] 1.6708347 -4.4422827\n",
            "[ 2.244706   0.9042939 -1.8499244  1.5403782  2.8323603] 1.6687316 -4.455047\n",
            "[ 2.2375576  0.9054112 -1.8522655  1.5645491  2.8534095] 1.6666558 -4.4681377\n",
            "[ 2.2305615  0.9065258 -1.8545847  1.5883014  2.874111 ] 1.6646135 -4.4815083\n",
            "[ 2.223714   0.907636  -1.8568828  1.6116419  2.8944702] 1.6626016 -4.495152\n",
            "[ 2.2170126  0.9087436 -1.8591595  1.6345768  2.9144926] 1.6606244 -4.509031\n",
            "[ 2.2104547  0.9098463 -1.8614142  1.6571133  2.9341826] 1.658681 -4.5231276\n",
            "[ 2.2040374   0.91094446 -1.8636469   1.6792544   2.9535456 ] 1.6567731 -4.5374174\n",
            "[ 2.1977577   0.91203845 -1.8658569   1.7010081   2.972586  ] 1.6549019 -4.5518765\n",
            "[ 2.1916144  0.9131277 -1.8680441  1.7223794  2.9913085] 1.6530678 -4.566485\n",
            "[ 2.1856034  0.9142119 -1.8702079  1.7433743  3.009717 ] 1.6512692 -4.5812316\n",
            "[ 2.1797235  0.9152907 -1.8723485  1.7639982  3.027817 ] 1.6495068 -4.596096\n",
            "[ 2.1739712  0.9163636 -1.874466   1.7842566  3.0456128] 1.6477818 -4.611056\n",
            "[ 2.1683452  0.9174307 -1.8765601  1.804155   3.0631099] 1.6460956 -4.6260915\n",
            "[ 2.1628428  0.9184917 -1.8786306  1.8236985  3.08031  ] 1.6444458 -4.641195\n",
            "[ 2.1574616  0.9195462 -1.8806778  1.8428926  3.0972192] 1.6428345 -4.656342\n",
            "[ 2.1521995  0.9205941 -1.8827015  1.8617421  3.113841 ] 1.641261 -4.671522\n",
            "[ 2.147054   0.9216353 -1.8847017  1.8802528  3.13018  ] 1.6397238 -4.686725\n",
            "[ 2.1420238  0.9226697 -1.8866786  1.8984293  3.1462395] 1.6382236 -4.7019362\n",
            "[ 2.1371064   0.92369705 -1.8886318   1.9162768   3.1620245 ] 1.6367613 -4.7171364\n",
            "[ 2.1322987  0.9247171 -1.8905619  1.9338003  3.1775377] 1.6353347 -4.732322\n",
            "[ 2.1276      0.92572886 -1.8924687   1.9510049   3.1927845 ] 1.6339439 -4.7474813\n",
            "[ 2.1230066   0.92673326 -1.8943524   1.9678954   3.2077677 ] 1.6325889 -4.762601\n",
            "[ 2.118518    0.92773014 -1.896213    1.9844769   3.2224915 ] 1.6312703 -4.777666\n",
            "[ 2.1141317  0.9287179 -1.898051   2.0007539  3.2369597] 1.6299865 -4.792673\n",
            "[ 2.109845    0.92969805 -1.8998662   2.0167308   3.2511756 ] 1.6287363 -4.8076158\n",
            "[ 2.1056564  0.9306695 -1.901659   2.032414   3.2651434] 1.6275203 -4.8224807\n",
            "[ 2.1015637  0.9316323 -1.9034293  2.047807   3.2788668] 1.626338 -4.8372602\n",
            "[ 2.0975654  0.9325866 -1.9051769  2.0629146  3.2923493] 1.6251885 -4.851949\n",
            "[ 2.0936592  0.9335317 -1.9069026  2.0777416  3.3055942] 1.6240722 -4.8665347\n",
            "[ 2.0898428  0.9344682 -1.9086066  2.0922928  3.318605 ] 1.6229872 -4.8810167\n",
            "[ 2.0861144  0.9353953 -1.9102893  2.1065717  3.3313859] 1.6219333 -4.8953876\n",
            "[ 2.082474   0.9363134 -1.9119508  2.120584   3.3439395] 1.6209096 -4.9096456\n",
            "[ 2.0789168   0.93722224 -1.9135903   2.1343334   3.3562703 ] 1.6199162 -4.923778\n",
            "[ 2.0754435  0.9381215 -1.9152086  2.1478248  3.3683808] 1.6189516 -4.9377875\n",
            "[ 2.07205     0.93901193 -1.9168063   2.1610618   3.3802748 ] 1.6180153 -4.951667\n",
            "[ 2.0687366   0.93989205 -1.9183838   2.1740494   3.3919559 ] 1.6171069 -4.9654126\n",
            "[ 2.0655007   0.94076324 -1.9199399   2.1867914   3.4034266 ] 1.6162281 -4.9790087\n",
            "[ 2.0623403   0.94162464 -1.9214755   2.1992917   3.4146907 ] 1.6153749 -4.9924693\n",
            "[ 2.059254   0.9424764 -1.9229916  2.2115552  3.425752 ] 1.6145467 -5.00579\n",
            "[ 2.05624     0.94331896 -1.9244875   2.2235856   3.4366126 ] 1.613746 -5.0189524\n",
            "[ 2.053297   0.9441511 -1.9259628  2.2353873  3.4472764] 1.6129684 -5.0319743\n",
            "[ 2.0504234   0.94497406 -1.9274193   2.2469642   3.4577465 ] 1.6122177 -5.0448318\n",
            "[ 2.0476174   0.94578743 -1.9288558   2.2583199   3.4680262 ] 1.6114874 -5.0575504\n",
            "[ 2.0448775   0.94659066 -1.9302727   2.2694583   3.4781184 ] 1.6107825 -5.070101\n"
          ],
          "name": "stdout"
        }
      ]
    },
    {
      "cell_type": "code",
      "metadata": {
        "colab": {
          "base_uri": "https://localhost:8080/"
        },
        "id": "Ca_0mkHHQ1TI",
        "outputId": "f44ef8a5-8eba-4183-d073-c1dfc48cef80"
      },
      "source": [
        "print(opt_beta)\n",
        "print(true_beta)"
      ],
      "execution_count": 17,
      "outputs": [
        {
          "output_type": "stream",
          "text": [
            "[ 2.0448775   0.94659066 -1.9302727   2.2694583   3.4781184 ]\n",
            "[ 2.  1. -2.  3.  4.]\n"
          ],
          "name": "stdout"
        }
      ]
    },
    {
      "cell_type": "code",
      "metadata": {
        "colab": {
          "base_uri": "https://localhost:8080/"
        },
        "id": "VsStp8WFQ1TI",
        "outputId": "fed8a536-2bd0-49f8-ae36-29f64d202608"
      },
      "source": [
        "print(opt_sigma)\n",
        "print(true_sigma)"
      ],
      "execution_count": 18,
      "outputs": [
        {
          "output_type": "stream",
          "text": [
            "1.6107825\n",
            "2.0\n"
          ],
          "name": "stdout"
        }
      ]
    }
  ]
}