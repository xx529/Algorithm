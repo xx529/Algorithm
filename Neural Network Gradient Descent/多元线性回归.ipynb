{
 "cells": [
  {
   "cell_type": "markdown",
   "metadata": {},
   "source": [
    "# 多元线性回归手推算法\n",
    "1. 构建loss函数，使用梯度下降方式求解"
   ]
  },
  {
   "cell_type": "markdown",
   "metadata": {},
   "source": [
    "# 重要公式"
   ]
  },
  {
   "cell_type": "markdown",
   "metadata": {},
   "source": [
    "回归公式：$y = w_0x_0+w_1x_1+...w_mx_m$（$w_0x_0$为截距）"
   ]
  },
  {
   "cell_type": "markdown",
   "metadata": {},
   "source": [
    "损失函数：$loss = \\frac{1}{2n} \\sum_{i}^{n}(\\hat{y_i}-y_i)^2=\\frac{1}{2n} \\sum_{i}^{n}(\\sum_{j}^mw_j^{(i)}x_j^{(i)}-y_i)^2$"
   ]
  },
  {
   "cell_type": "markdown",
   "metadata": {},
   "source": [
    "梯度求解：$\\frac{\\partial{loss}}{\\partial{w}}=\\frac{1}{n}\\sum_{j}^m(w_j^{(i)}x_j^{(i)}-y_i)x^{(i)}_j$"
   ]
  },
  {
   "cell_type": "markdown",
   "metadata": {},
   "source": [
    "# 代码实现"
   ]
  },
  {
   "cell_type": "code",
   "execution_count": 169,
   "metadata": {},
   "outputs": [],
   "source": [
    "import numpy as np\n",
    "import random"
   ]
  },
  {
   "cell_type": "markdown",
   "metadata": {},
   "source": [
    "## 数据模拟"
   ]
  },
  {
   "cell_type": "code",
   "execution_count": 166,
   "metadata": {},
   "outputs": [],
   "source": [
    "samples = 100\n",
    "dimension = 4\n",
    "intercept = 5\n",
    "noise = np.random.random(size=(1,samples)).T # 数据扰动值增加\n",
    "\n",
    "# 模拟数据生成\n",
    "x = np.random.randint(1, 10, (samples,dimension))\n",
    "w = np.random.randint(1, 10, dimension)\n",
    "y = np.dot(x, np.array([w]).T) + intercept + noise"
   ]
  },
  {
   "cell_type": "markdown",
   "metadata": {},
   "source": [
    "## 回归计算"
   ]
  },
  {
   "cell_type": "code",
   "execution_count": 167,
   "metadata": {},
   "outputs": [],
   "source": [
    "# 超参数设定\n",
    "learn_rate = 0.01\n",
    "max_iterate = 10000\n",
    "tol = 0.01\n",
    "\n",
    "# 初始化参数\n",
    "w_init = np.random.random(dimension+1)\n",
    "feature = np.concatenate((np.ones(shape=(samples,1)), x), axis=1) # 处理增加x_0截距\n",
    "label = y.reshape(1,-1) \n",
    "\n",
    "iter_time = 1\n",
    "\n",
    "while True:\n",
    "    \n",
    "    # 损失计算\n",
    "    loss = 0.5 * (1/samples) * ((np.dot(feature, w_init) - label) ** 2).sum()\n",
    "    \n",
    "    # 梯度矩阵计算\n",
    "    gradient_w = (feature * (np.dot(feature, w_init.reshape(-1,1)) - y)).mean(axis=0)\n",
    "    \n",
    "    # 梯度矩阵更新\n",
    "    w_new = w_init - learn_rate * gradient_w\n",
    "\n",
    "    # 迭代停止判断\n",
    "    if iter_time >= max_iterate or loss <= tol:\n",
    "        break\n",
    "    else:\n",
    "        iter_time += 1\n",
    "        w_init = w_new"
   ]
  },
  {
   "cell_type": "code",
   "execution_count": 168,
   "metadata": {},
   "outputs": [
    {
     "name": "stdout",
     "output_type": "stream",
     "text": [
      "模拟的w [2 8 7 9]\n",
      "模拟的截距 5\n",
      "拟合的w [1.99020787 8.01198813 6.99460097 8.98872373]\n",
      "拟合的截距 5.613509389498392\n",
      "损失值 0.03821293220913641\n"
     ]
    }
   ],
   "source": [
    "print('模拟的w', w)\n",
    "print('模拟的截距', intercept)\n",
    "print('拟合的w', w_init[1:])\n",
    "print('拟合的截距', w_init[0])\n",
    "print('损失值', loss)"
   ]
  }
 ],
 "metadata": {
  "hide_input": false,
  "kernelspec": {
   "display_name": "Python 3",
   "language": "python",
   "name": "python3"
  },
  "language_info": {
   "codemirror_mode": {
    "name": "ipython",
    "version": 3
   },
   "file_extension": ".py",
   "mimetype": "text/x-python",
   "name": "python",
   "nbconvert_exporter": "python",
   "pygments_lexer": "ipython3",
   "version": "3.8.1"
  },
  "toc": {
   "base_numbering": 1,
   "nav_menu": {},
   "number_sections": true,
   "sideBar": true,
   "skip_h1_title": false,
   "title_cell": "Table of Contents",
   "title_sidebar": "Contents",
   "toc_cell": false,
   "toc_position": {},
   "toc_section_display": true,
   "toc_window_display": false
  },
  "varInspector": {
   "cols": {
    "lenName": 16,
    "lenType": 16,
    "lenVar": 40
   },
   "kernels_config": {
    "python": {
     "delete_cmd_postfix": "",
     "delete_cmd_prefix": "del ",
     "library": "var_list.py",
     "varRefreshCmd": "print(var_dic_list())"
    },
    "r": {
     "delete_cmd_postfix": ") ",
     "delete_cmd_prefix": "rm(",
     "library": "var_list.r",
     "varRefreshCmd": "cat(var_dic_list()) "
    }
   },
   "types_to_exclude": [
    "module",
    "function",
    "builtin_function_or_method",
    "instance",
    "_Feature"
   ],
   "window_display": false
  }
 },
 "nbformat": 4,
 "nbformat_minor": 4
}
